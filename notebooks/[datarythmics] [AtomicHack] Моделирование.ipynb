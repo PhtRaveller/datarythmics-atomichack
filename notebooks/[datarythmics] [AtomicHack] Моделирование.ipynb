{
 "cells": [
  {
   "cell_type": "code",
   "execution_count": 1,
   "id": "8027e58e",
   "metadata": {
    "ExecuteTime": {
     "end_time": "2023-12-16T21:24:04.091378Z",
     "start_time": "2023-12-16T21:24:02.656548Z"
    }
   },
   "outputs": [
    {
     "name": "stdout",
     "output_type": "stream",
     "text": [
      "Populating the interactive namespace from numpy and matplotlib\n"
     ]
    }
   ],
   "source": [
    "%pylab inline\n",
    "plt.style.use(\"bmh\")\n",
    "plt.rcParams[\"figure.figsize\"] = (6,6)\n",
    "plt.rcParams[\"figure.dpi\"] = 150\n",
    "\n",
    "import seaborn as sns"
   ]
  },
  {
   "cell_type": "code",
   "execution_count": 2,
   "id": "e202636a",
   "metadata": {
    "ExecuteTime": {
     "end_time": "2023-12-16T21:24:06.762215Z",
     "start_time": "2023-12-16T21:24:06.750699Z"
    }
   },
   "outputs": [],
   "source": [
    "import pathlib\n",
    "\n",
    "# DS imports\n",
    "import pandas as pd\n",
    "\n",
    "# Custom imports\n",
    "from atomichackpy import utils"
   ]
  },
  {
   "cell_type": "code",
   "execution_count": 3,
   "id": "c40048d9",
   "metadata": {
    "ExecuteTime": {
     "end_time": "2023-12-16T21:24:10.763722Z",
     "start_time": "2023-12-16T21:24:10.752494Z"
    }
   },
   "outputs": [],
   "source": [
    "DATA_DIR = pathlib.Path(\"../data/dataset\")"
   ]
  },
  {
   "cell_type": "code",
   "execution_count": 4,
   "id": "fcc66636",
   "metadata": {
    "ExecuteTime": {
     "end_time": "2023-12-16T21:24:13.825351Z",
     "start_time": "2023-12-16T21:24:13.818413Z"
    }
   },
   "outputs": [],
   "source": [
    "RS = 23789465"
   ]
  },
  {
   "cell_type": "code",
   "execution_count": 5,
   "id": "e16e5956",
   "metadata": {
    "ExecuteTime": {
     "end_time": "2023-12-16T21:24:16.967816Z",
     "start_time": "2023-12-16T21:24:16.927699Z"
    }
   },
   "outputs": [],
   "source": [
    "%load_ext autoreload\n",
    "%autoreload 2"
   ]
  },
  {
   "cell_type": "markdown",
   "id": "2d9dfab0",
   "metadata": {},
   "source": [
    "# Загрузка разметки"
   ]
  },
  {
   "cell_type": "code",
   "execution_count": 108,
   "id": "4cba14c0",
   "metadata": {
    "ExecuteTime": {
     "end_time": "2023-12-16T22:47:05.806160Z",
     "start_time": "2023-12-16T22:47:05.741074Z"
    }
   },
   "outputs": [],
   "source": [
    "frames = pd.read_csv(DATA_DIR.joinpath(\"frames.csv\"))\n",
    "train_target = pd.read_csv(DATA_DIR.joinpath(\"train_defect_target_clean.csv\"))\n",
    "test_target = pd.read_csv(DATA_DIR.joinpath(\"test_defect_target_clean.csv\"))\n",
    "classes = pd.read_csv(DATA_DIR.joinpath(\"metadata\", \"classes.csv\"))"
   ]
  },
  {
   "cell_type": "markdown",
   "id": "8d48b6c9",
   "metadata": {},
   "source": [
    "На предыдущем шаге забыли поправить имена файлов (с Windows на Linux):"
   ]
  },
  {
   "cell_type": "code",
   "execution_count": 109,
   "id": "1dc7a81e",
   "metadata": {
    "ExecuteTime": {
     "end_time": "2023-12-16T22:47:06.573123Z",
     "start_time": "2023-12-16T22:47:06.497664Z"
    }
   },
   "outputs": [],
   "source": [
    "test_target[\"frame\"] = test_target[\"frame\"].apply(lambda v: pathlib.PureWindowsPath(v).as_posix())"
   ]
  },
  {
   "cell_type": "markdown",
   "id": "8605750d",
   "metadata": {},
   "source": [
    "## Проверка баланса классов и наличия всех классов в тренировочном и тестовом множествах"
   ]
  },
  {
   "cell_type": "code",
   "execution_count": 110,
   "id": "b8b96342",
   "metadata": {
    "ExecuteTime": {
     "end_time": "2023-12-16T22:47:07.409502Z",
     "start_time": "2023-12-16T22:47:07.364166Z"
    }
   },
   "outputs": [
    {
     "data": {
      "text/plain": [
       "classname\n",
       "не дефект           21564\n",
       "потертость           3823\n",
       "н.д. микровыступ      820\n",
       "микровыступ           448\n",
       "Name: count, dtype: int64"
      ]
     },
     "execution_count": 110,
     "metadata": {},
     "output_type": "execute_result"
    }
   ],
   "source": [
    "train_target.merge(classes, left_on=\"label\", right_on=\"class\").classname.value_counts()"
   ]
  },
  {
   "cell_type": "code",
   "execution_count": 111,
   "id": "112c0d05",
   "metadata": {
    "ExecuteTime": {
     "end_time": "2023-12-16T22:47:08.528602Z",
     "start_time": "2023-12-16T22:47:08.486708Z"
    }
   },
   "outputs": [
    {
     "data": {
      "text/plain": [
       "classname\n",
       "не дефект             2408\n",
       "грязь                 1343\n",
       "маркер                1072\n",
       "потертость             428\n",
       "мех.повреждение        325\n",
       "черная точка           284\n",
       "накол                  254\n",
       "плена                  219\n",
       "н.д. накол             162\n",
       "царапина с волчком     153\n",
       "н.д. микровыступ        99\n",
       "риска                   67\n",
       "микровыступ             57\n",
       "вмятина                 51\n",
       "Name: count, dtype: int64"
      ]
     },
     "execution_count": 111,
     "metadata": {},
     "output_type": "execute_result"
    }
   ],
   "source": [
    "test_target.merge(classes, left_on=\"label\", right_on=\"class\").classname.value_counts()"
   ]
  },
  {
   "cell_type": "markdown",
   "id": "97b1d56e",
   "metadata": {},
   "source": [
    "Таким образом, некоторые классы не встречаются в тренировочном множестве, поэтому набор придётся переразбить."
   ]
  },
  {
   "cell_type": "code",
   "execution_count": 235,
   "id": "a508de8e",
   "metadata": {
    "ExecuteTime": {
     "end_time": "2023-12-16T23:37:16.300031Z",
     "start_time": "2023-12-16T23:37:16.265422Z"
    }
   },
   "outputs": [],
   "source": [
    "train_target[\"source\"] = \"train\"\n",
    "test_target[\"source\"] = \"test\"\n",
    "target = pd.concat([train_target, test_target], ignore_index=True)"
   ]
  },
  {
   "cell_type": "code",
   "execution_count": 236,
   "id": "54ee06a9",
   "metadata": {
    "ExecuteTime": {
     "end_time": "2023-12-16T23:37:16.812466Z",
     "start_time": "2023-12-16T23:37:16.776901Z"
    }
   },
   "outputs": [
    {
     "data": {
      "text/html": [
       "<div>\n",
       "<style scoped>\n",
       "    .dataframe tbody tr th:only-of-type {\n",
       "        vertical-align: middle;\n",
       "    }\n",
       "\n",
       "    .dataframe tbody tr th {\n",
       "        vertical-align: top;\n",
       "    }\n",
       "\n",
       "    .dataframe thead th {\n",
       "        text-align: right;\n",
       "    }\n",
       "</style>\n",
       "<table border=\"1\" class=\"dataframe\">\n",
       "  <thead>\n",
       "    <tr style=\"text-align: right;\">\n",
       "      <th></th>\n",
       "      <th>frame</th>\n",
       "      <th>x</th>\n",
       "      <th>y</th>\n",
       "      <th>label</th>\n",
       "      <th>source</th>\n",
       "    </tr>\n",
       "  </thead>\n",
       "  <tbody>\n",
       "    <tr>\n",
       "      <th>0</th>\n",
       "      <td>0/1538/frame0006.frame</td>\n",
       "      <td>601</td>\n",
       "      <td>299</td>\n",
       "      <td>0</td>\n",
       "      <td>train</td>\n",
       "    </tr>\n",
       "    <tr>\n",
       "      <th>1</th>\n",
       "      <td>0/1538/frame0007.frame</td>\n",
       "      <td>445</td>\n",
       "      <td>300</td>\n",
       "      <td>0</td>\n",
       "      <td>train</td>\n",
       "    </tr>\n",
       "    <tr>\n",
       "      <th>2</th>\n",
       "      <td>0/1538/frame0007.frame</td>\n",
       "      <td>338</td>\n",
       "      <td>94</td>\n",
       "      <td>0</td>\n",
       "      <td>train</td>\n",
       "    </tr>\n",
       "    <tr>\n",
       "      <th>3</th>\n",
       "      <td>0/1538/frame0007.frame</td>\n",
       "      <td>863</td>\n",
       "      <td>271</td>\n",
       "      <td>0</td>\n",
       "      <td>train</td>\n",
       "    </tr>\n",
       "    <tr>\n",
       "      <th>4</th>\n",
       "      <td>0/1538/frame0009.frame</td>\n",
       "      <td>864</td>\n",
       "      <td>390</td>\n",
       "      <td>0</td>\n",
       "      <td>train</td>\n",
       "    </tr>\n",
       "    <tr>\n",
       "      <th>...</th>\n",
       "      <td>...</td>\n",
       "      <td>...</td>\n",
       "      <td>...</td>\n",
       "      <td>...</td>\n",
       "      <td>...</td>\n",
       "    </tr>\n",
       "    <tr>\n",
       "      <th>33572</th>\n",
       "      <td>2023.10.25/5_682.frame</td>\n",
       "      <td>568</td>\n",
       "      <td>448</td>\n",
       "      <td>0</td>\n",
       "      <td>test</td>\n",
       "    </tr>\n",
       "    <tr>\n",
       "      <th>33573</th>\n",
       "      <td>2023.10.25/5_874.frame</td>\n",
       "      <td>214</td>\n",
       "      <td>212</td>\n",
       "      <td>0</td>\n",
       "      <td>test</td>\n",
       "    </tr>\n",
       "    <tr>\n",
       "      <th>33574</th>\n",
       "      <td>2023.10.25/5_874.frame</td>\n",
       "      <td>509</td>\n",
       "      <td>389</td>\n",
       "      <td>0</td>\n",
       "      <td>test</td>\n",
       "    </tr>\n",
       "    <tr>\n",
       "      <th>33575</th>\n",
       "      <td>2023.10.25/5_882.frame</td>\n",
       "      <td>745</td>\n",
       "      <td>271</td>\n",
       "      <td>0</td>\n",
       "      <td>test</td>\n",
       "    </tr>\n",
       "    <tr>\n",
       "      <th>33576</th>\n",
       "      <td>2023.10.25/5_896.frame</td>\n",
       "      <td>750</td>\n",
       "      <td>395</td>\n",
       "      <td>1</td>\n",
       "      <td>test</td>\n",
       "    </tr>\n",
       "  </tbody>\n",
       "</table>\n",
       "<p>33577 rows × 5 columns</p>\n",
       "</div>"
      ],
      "text/plain": [
       "                        frame    x    y  label source\n",
       "0      0/1538/frame0006.frame  601  299      0  train\n",
       "1      0/1538/frame0007.frame  445  300      0  train\n",
       "2      0/1538/frame0007.frame  338   94      0  train\n",
       "3      0/1538/frame0007.frame  863  271      0  train\n",
       "4      0/1538/frame0009.frame  864  390      0  train\n",
       "...                       ...  ...  ...    ...    ...\n",
       "33572  2023.10.25/5_682.frame  568  448      0   test\n",
       "33573  2023.10.25/5_874.frame  214  212      0   test\n",
       "33574  2023.10.25/5_874.frame  509  389      0   test\n",
       "33575  2023.10.25/5_882.frame  745  271      0   test\n",
       "33576  2023.10.25/5_896.frame  750  395      1   test\n",
       "\n",
       "[33577 rows x 5 columns]"
      ]
     },
     "execution_count": 236,
     "metadata": {},
     "output_type": "execute_result"
    }
   ],
   "source": [
    "target"
   ]
  },
  {
   "cell_type": "markdown",
   "id": "880e26af",
   "metadata": {},
   "source": [
    "Проверим дубликаты:"
   ]
  },
  {
   "cell_type": "code",
   "execution_count": 237,
   "id": "958b16fe",
   "metadata": {
    "ExecuteTime": {
     "end_time": "2023-12-16T23:37:20.037265Z",
     "start_time": "2023-12-16T23:37:19.995778Z"
    }
   },
   "outputs": [
    {
     "data": {
      "text/plain": [
       "False    33577\n",
       "Name: count, dtype: int64"
      ]
     },
     "execution_count": 237,
     "metadata": {},
     "output_type": "execute_result"
    }
   ],
   "source": [
    "target.duplicated(subset=[\"frame\", \"x\", \"y\"]).value_counts()"
   ]
  },
  {
   "cell_type": "markdown",
   "id": "01ec222a",
   "metadata": {},
   "source": [
    "Убираем кадры, которых нет на диске:"
   ]
  },
  {
   "cell_type": "code",
   "execution_count": 238,
   "id": "c412106a",
   "metadata": {
    "ExecuteTime": {
     "end_time": "2023-12-16T23:37:21.220949Z",
     "start_time": "2023-12-16T23:37:21.180626Z"
    }
   },
   "outputs": [],
   "source": [
    "target = target[target.frame.isin(frames.frame)]"
   ]
  },
  {
   "cell_type": "markdown",
   "id": "b0430aa9",
   "metadata": {},
   "source": [
    "Разбиваем на тренировочное и тестовое множества по кадрам (т. е. все дефекты одного кадра отправляются в одно из множеств). Уникальных кадров, для которых есть разметка:"
   ]
  },
  {
   "cell_type": "code",
   "execution_count": 239,
   "id": "fdd2686c",
   "metadata": {
    "ExecuteTime": {
     "end_time": "2023-12-16T23:37:22.221275Z",
     "start_time": "2023-12-16T23:37:22.182458Z"
    }
   },
   "outputs": [
    {
     "data": {
      "text/plain": [
       "6841"
      ]
     },
     "execution_count": 239,
     "metadata": {},
     "output_type": "execute_result"
    }
   ],
   "source": [
    "target.frame.nunique()"
   ]
  },
  {
   "cell_type": "markdown",
   "id": "cf29b425",
   "metadata": {},
   "source": [
    "Перемешаем имена фреймов, а потом разделим на три части:"
   ]
  },
  {
   "cell_type": "code",
   "execution_count": 240,
   "id": "91764b98",
   "metadata": {
    "ExecuteTime": {
     "end_time": "2023-12-16T23:37:24.604801Z",
     "start_time": "2023-12-16T23:37:24.564357Z"
    }
   },
   "outputs": [
    {
     "data": {
      "text/plain": [
       "array(['2021.08.30/5/4_579.frame', '2023.07.12/4_486.frame',\n",
       "       '2022.06.21/0/3_617.frame', ...,\n",
       "       '2022.11.24/t29_dist_1_frame_1.frame', '2022.11.22/1_640.frame',\n",
       "       '2022.12.08/3_661.frame'], dtype=object)"
      ]
     },
     "execution_count": 240,
     "metadata": {},
     "output_type": "execute_result"
    }
   ],
   "source": [
    "unique_frames = target.frame.unique()\n",
    "\n",
    "np.random.seed(RS)\n",
    "np.random.shuffle(unique_frames)\n",
    "unique_frames"
   ]
  },
  {
   "cell_type": "code",
   "execution_count": 241,
   "id": "0039268e",
   "metadata": {
    "ExecuteTime": {
     "end_time": "2023-12-16T23:37:25.264817Z",
     "start_time": "2023-12-16T23:37:25.227381Z"
    }
   },
   "outputs": [],
   "source": [
    "TRAIN_FRAMES = unique_frames[:3500]\n",
    "VAL_FRAMES = unique_frames[3500:5500]\n",
    "TEST_FRAMES = unique_frames[5500:]"
   ]
  },
  {
   "cell_type": "markdown",
   "id": "b07056ae",
   "metadata": {},
   "source": [
    "Для надёжности проверяем пересечения:"
   ]
  },
  {
   "cell_type": "code",
   "execution_count": 242,
   "id": "e739a325",
   "metadata": {
    "ExecuteTime": {
     "end_time": "2023-12-16T23:37:25.974242Z",
     "start_time": "2023-12-16T23:37:25.934363Z"
    }
   },
   "outputs": [
    {
     "data": {
      "text/plain": [
       "array([], dtype=object)"
      ]
     },
     "execution_count": 242,
     "metadata": {},
     "output_type": "execute_result"
    }
   ],
   "source": [
    "np.intersect1d(TRAIN_FRAMES, VAL_FRAMES)"
   ]
  },
  {
   "cell_type": "code",
   "execution_count": 243,
   "id": "5f63aaac",
   "metadata": {
    "ExecuteTime": {
     "end_time": "2023-12-16T23:37:26.204453Z",
     "start_time": "2023-12-16T23:37:26.168019Z"
    }
   },
   "outputs": [
    {
     "data": {
      "text/plain": [
       "array([], dtype=object)"
      ]
     },
     "execution_count": 243,
     "metadata": {},
     "output_type": "execute_result"
    }
   ],
   "source": [
    "np.intersect1d(TEST_FRAMES, VAL_FRAMES)"
   ]
  },
  {
   "cell_type": "code",
   "execution_count": 244,
   "id": "46f6d2a8",
   "metadata": {
    "ExecuteTime": {
     "end_time": "2023-12-16T23:37:26.462427Z",
     "start_time": "2023-12-16T23:37:26.427471Z"
    }
   },
   "outputs": [
    {
     "data": {
      "text/plain": [
       "array([], dtype=object)"
      ]
     },
     "execution_count": 244,
     "metadata": {},
     "output_type": "execute_result"
    }
   ],
   "source": [
    "np.intersect1d(TEST_FRAMES, TRAIN_FRAMES)"
   ]
  },
  {
   "cell_type": "markdown",
   "id": "24ac9c7d",
   "metadata": {},
   "source": [
    "Проверяем баланс и представленность классов в множествах:"
   ]
  },
  {
   "cell_type": "code",
   "execution_count": 245,
   "id": "49acec5a",
   "metadata": {
    "ExecuteTime": {
     "end_time": "2023-12-16T23:37:27.577822Z",
     "start_time": "2023-12-16T23:37:27.515307Z"
    }
   },
   "outputs": [
    {
     "data": {
      "text/plain": [
       "classname\n",
       "не дефект             12180\n",
       "потертость             2201\n",
       "грязь                   683\n",
       "маркер                  591\n",
       "н.д. микровыступ        454\n",
       "микровыступ             261\n",
       "черная точка            150\n",
       "накол                   142\n",
       "мех.повреждение         142\n",
       "плена                   116\n",
       "царапина с волчком       77\n",
       "н.д. накол               76\n",
       "риска                    33\n",
       "вмятина                  26\n",
       "Name: count, dtype: int64"
      ]
     },
     "execution_count": 245,
     "metadata": {},
     "output_type": "execute_result"
    }
   ],
   "source": [
    "(target[target.frame.isin(TRAIN_FRAMES)]\n",
    " .merge(classes, left_on=\"label\", right_on=\"class\")\n",
    " .classname\n",
    " .value_counts())"
   ]
  },
  {
   "cell_type": "code",
   "execution_count": 246,
   "id": "d9b6b7ab",
   "metadata": {
    "ExecuteTime": {
     "end_time": "2023-12-16T23:37:27.760189Z",
     "start_time": "2023-12-16T23:37:27.727033Z"
    }
   },
   "outputs": [
    {
     "data": {
      "text/plain": [
       "classname\n",
       "не дефект             7130\n",
       "потертость            1247\n",
       "грязь                  408\n",
       "маркер                 295\n",
       "н.д. микровыступ       271\n",
       "микровыступ            140\n",
       "мех.повреждение        105\n",
       "черная точка            87\n",
       "накол                   68\n",
       "плена                   67\n",
       "н.д. накол              53\n",
       "царапина с волчком      48\n",
       "вмятина                 16\n",
       "риска                   15\n",
       "Name: count, dtype: int64"
      ]
     },
     "execution_count": 246,
     "metadata": {},
     "output_type": "execute_result"
    }
   ],
   "source": [
    "(target[target.frame.isin(VAL_FRAMES)]\n",
    " .merge(classes, left_on=\"label\", right_on=\"class\")\n",
    " .classname\n",
    " .value_counts())"
   ]
  },
  {
   "cell_type": "code",
   "execution_count": 247,
   "id": "1a11fc70",
   "metadata": {
    "ExecuteTime": {
     "end_time": "2023-12-16T23:37:28.559280Z",
     "start_time": "2023-12-16T23:37:28.523648Z"
    }
   },
   "outputs": [
    {
     "data": {
      "text/plain": [
       "classname\n",
       "не дефект             4662\n",
       "потертость             803\n",
       "грязь                  252\n",
       "н.д. микровыступ       194\n",
       "маркер                 186\n",
       "микровыступ            104\n",
       "мех.повреждение         78\n",
       "черная точка            47\n",
       "накол                   44\n",
       "плена                   36\n",
       "н.д. накол              33\n",
       "царапина с волчком      28\n",
       "риска                   19\n",
       "вмятина                  9\n",
       "Name: count, dtype: int64"
      ]
     },
     "execution_count": 247,
     "metadata": {},
     "output_type": "execute_result"
    }
   ],
   "source": [
    "(target[target.frame.isin(TEST_FRAMES)]\n",
    " .merge(classes, left_on=\"label\", right_on=\"class\")\n",
    " .classname\n",
    " .value_counts())"
   ]
  },
  {
   "cell_type": "markdown",
   "id": "0fa73b40",
   "metadata": {
    "ExecuteTime": {
     "end_time": "2023-12-16T21:49:16.764302Z",
     "start_time": "2023-12-16T21:49:16.733798Z"
    }
   },
   "source": [
    "При таком разбиении мы можем тренировать модель на все классы, т. к. все они представлены в каждом из множеств."
   ]
  },
  {
   "cell_type": "markdown",
   "id": "a2b3efd7",
   "metadata": {},
   "source": [
    "# Принцип выборки данных из кадров\n",
    "\n",
    "Исходя из того, как отмечены дефекты на кадрах, можно заключить следующее:\n",
    "\n",
    "- разметка неполна, т. е. нельзя гарантировать, что отмечены **все** дефекты на каждом кадре, как и нельзя гарантировать, что отмечены все участки, не являющиеся дефектными,\n",
    "- т. к. полной маски для каждого дефекта нет, мы можем полагаться только на то, что **где-то внутри** квадрата размером `160 x 160` вокруг указанной в разметке точки есть дефект неопределенного размера и формы,\n",
    "- чтобы сделать разметку для тренировки модели однозначной, будет разумно брать семпл чуть меньшего размера вокруг точки, указанной в разметке, и использовать его как самостоятельное изображение при тренировке,\n",
    "- для детектирования дефектов на полном снимке: распознать каждый семпл указанного размера.\n",
    "\n",
    "Например, если семпл имеет размер `120 x 120` пикселей, то для распознавания дефектов на полном снимке размером `600 x 960` потребуется распознать `5 x 8 = 40` отдельных распознаваний."
   ]
  },
  {
   "cell_type": "code",
   "execution_count": 337,
   "id": "6fe9e40b",
   "metadata": {
    "ExecuteTime": {
     "end_time": "2023-12-17T00:52:58.429355Z",
     "start_time": "2023-12-17T00:52:58.374631Z"
    }
   },
   "outputs": [],
   "source": [
    "# Generic imports\n",
    "from typing import Union, Optional\n",
    "import tqdm\n",
    "\n",
    "# skimage imports\n",
    "from skimage.transform import resize\n",
    "\n",
    "# PyTorch imports\n",
    "import torch\n",
    "import torch.nn.functional as F\n",
    "from torch import nn\n",
    "from torch.utils.data import DataLoader, Dataset\n",
    "\n",
    "# PyTorch Lightning imports\n",
    "import pytorch_lightning as pl\n",
    "\n",
    "# Logging imports\n",
    "import logging\n",
    "import coloredlogs"
   ]
  },
  {
   "cell_type": "code",
   "execution_count": 338,
   "id": "213a76e8",
   "metadata": {
    "ExecuteTime": {
     "end_time": "2023-12-17T00:54:30.063501Z",
     "start_time": "2023-12-17T00:54:29.999202Z"
    }
   },
   "outputs": [],
   "source": [
    "class UnaryDefectsDataset(Dataset):\n",
    "    \"\"\"Sample data from multiple frames given the ground truth.\"\"\"\n",
    "\n",
    "    NCLASSES = 14\n",
    "    XMAX = 960\n",
    "    YMAX = 600\n",
    "\n",
    "    def __init__(self,\n",
    "                 defects: pd.DataFrame,\n",
    "                 frame_dir: Union[str, pathlib.Path],\n",
    "                 sample_dim: int = 120,\n",
    "                 sample_num: Optional[int] = None,\n",
    "                 resize: Optional[int] = None,\n",
    "                 scaling: str = \"range\",\n",
    "                 percentiles: list = [25, 75],\n",
    "                 references: list = [-0.25, 0.25],\n",
    "                 random_state: Optional[int] = None,\n",
    "                 tag: str = \"train\",\n",
    "                 verbose: bool = False):\n",
    "\n",
    "        # Tech setup\n",
    "        self._setup_logger(tag, verbose)\n",
    "\n",
    "        assert DATA_DIR.exists(), f\"frames directory {frame_dir} doesn't exist\"\n",
    "\n",
    "        # Data setup\n",
    "        self.defects = defects\n",
    "        self.frame_dir = pathlib.Path(frame_dir)\n",
    "        self.sample_dim = sample_dim\n",
    "        self.sample_num = sample_num\n",
    "        self.resize = resize\n",
    "        self.scaling = scaling\n",
    "        self.percentiles = percentiles\n",
    "        self.references = references\n",
    "        self.random_state = random_state\n",
    "\n",
    "        # Final sampling\n",
    "        self._logger.debug(\"Assembling car-level samples...\")\n",
    "\n",
    "        self._prepare_samples()\n",
    "\n",
    "    def _setup_logger(self, tag: str, verbose: bool):\n",
    "        \"\"\"Setup logger.\"\"\"\n",
    "\n",
    "        self._logger = logging.getLogger(tag)\n",
    "        coloredlogs.install(level='DEBUG' if verbose else \"INFO\", logger=self._logger)\n",
    "\n",
    "    def _prepare_samples(self):\n",
    "        \"\"\"Combine all the samples together.\"\"\"\n",
    "\n",
    "        if self.sample_num > len(self.defects):\n",
    "            self._logger.warning(f\"requested {self.sample_num} samples \"\n",
    "                                 f\"from {len(self.defects)} defects, using the smaller one\")\n",
    "            self.sample_num = len(self.defects)\n",
    "        elif self.sample_num is None:\n",
    "            self.sample_num = len(self.defects)\n",
    "\n",
    "        self.samples = self.defects.sample(self.sample_num,\n",
    "                                           random_state=self.random_state,\n",
    "                                           replace=False)\n",
    "\n",
    "        self.samples[\"x_min\"] = self.samples.x - self.sample_dim // 2\n",
    "        self.samples[\"x_max\"] = self.samples.x + self.sample_dim // 2\n",
    "        self.samples[\"y_min\"] = self.samples.y - self.sample_dim // 2\n",
    "        self.samples[\"y_max\"] = self.samples.y + self.sample_dim // 2\n",
    "\n",
    "        slices = []\n",
    "        valid = []\n",
    "\n",
    "        for _, sample in tqdm.tqdm(self.samples.iterrows(), total=len(self.samples)):\n",
    "            img = utils.read_frame(self.frame_dir.joinpath(sample.frame))\n",
    "            if (sample.y_min < 0\n",
    "                or sample.y_max > self.YMAX\n",
    "                or sample.x_min < 0\n",
    "                or sample.x_max > self.XMAX):\n",
    "                self._logger.warning(f\"sample {sample.frame} is outside the frame: \"\n",
    "                                     f\"({sample.y_min}:{sample.y_max}, {sample.x_min}:{sample.x_max})\")\n",
    "                valid.append(False)\n",
    "                continue\n",
    "\n",
    "            if self.resize is not None:\n",
    "                rimg = resize(img[sample.y_min:sample.y_max, sample.x_min:sample.x_max],\n",
    "                              (self.sample_dim // self.resize, self.sample_dim // self.resize))\n",
    "                slices.append(rimg)\n",
    "            else:\n",
    "                slices.append(img[sample.y_min:sample.y_max, sample.x_min:sample.x_max])\n",
    "\n",
    "            valid.append(True)\n",
    "\n",
    "        self.slices = np.stack(slices)\n",
    "        self.samples[\"valid\"] = valid\n",
    "\n",
    "    def __len__(self):\n",
    "        return len(self.samples[self.samples.valid])\n",
    "\n",
    "    def __getitem__(self, idx):\n",
    "        # Target\n",
    "        label = self.samples[self.samples.valid].iloc[idx].label\n",
    "        target = np.zeros(self.NCLASSES)\n",
    "        target[label] = 1\n",
    "\n",
    "        # Slice\n",
    "        slc = np.expand_dims(self.slices[idx], axis=0)\n",
    "        if self.scaling == \"range\":\n",
    "            mn, mx = slc.min(), slc.max()\n",
    "            slc = (slc - mn) / (mx - mn)\n",
    "        else:\n",
    "            ql, qh = np.percentile(slc, self.percentiles)\n",
    "            a, b = self.references\n",
    "            alpha = (b - a) / (qh - ql)\n",
    "            beta = a - alpha * ql\n",
    "            slc = alpha * slc + beta\n",
    "\n",
    "        return (torch.Tensor(slc),\n",
    "                torch.Tensor(target))"
   ]
  },
  {
   "cell_type": "code",
   "execution_count": 339,
   "id": "9a286db8",
   "metadata": {
    "ExecuteTime": {
     "end_time": "2023-12-17T00:54:36.773364Z",
     "start_time": "2023-12-17T00:54:35.767014Z"
    }
   },
   "outputs": [
    {
     "name": "stderr",
     "output_type": "stream",
     "text": [
      "\n",
      "  0%|          | 0/1000 [00:00<?, ?it/s]\u001b[A2023-12-17 03:54:35 localhost.localdomain train[18496] WARNING sample 2022.10.17/2_517.frame is outside the frame: (114:234, -3:117)\n",
      "\n",
      "  9%|▉         | 91/1000 [00:00<00:01, 906.90it/s]\u001b[A2023-12-17 03:54:35 localhost.localdomain train[18496] WARNING sample 2022.07.21/1/0_523.frame is outside the frame: (-10:110, 795:915)\n",
      "\n",
      " 20%|█▉        | 197/1000 [00:00<00:00, 994.36it/s]\u001b[A\n",
      " 30%|███       | 300/1000 [00:00<00:00, 1010.16it/s]\u001b[A2023-12-17 03:54:36 localhost.localdomain train[18496] WARNING sample 2023.09.07 13-09-28 78-23-04_1/1_824.frame is outside the frame: (-13:107, 713:833)\n",
      "\n",
      " 40%|████      | 402/1000 [00:00<00:00, 1013.06it/s]\u001b[A\n",
      " 52%|█████▎    | 525/1000 [00:00<00:00, 1090.51it/s]\u001b[A2023-12-17 03:54:36 localhost.localdomain train[18496] WARNING sample 2023.06.27 08-39-37 58-23-04_1/3_123.frame is outside the frame: (36:156, 846:966)\n",
      "\n",
      " 64%|██████▎   | 635/1000 [00:00<00:00, 1066.87it/s]\u001b[A\n",
      " 75%|███████▌  | 750/1000 [00:00<00:00, 1091.55it/s]\u001b[A2023-12-17 03:54:36 localhost.localdomain train[18496] WARNING sample 2023.06.05/4_196.frame is outside the frame: (483:603, 271:391)\n",
      "\n",
      " 87%|████████▋ | 867/1000 [00:00<00:00, 1113.19it/s]\u001b[A2023-12-17 03:54:36 localhost.localdomain train[18496] WARNING sample 2023.01.11/4_324.frame is outside the frame: (3:123, -12:108)\n",
      "\n",
      "100%|██████████| 1000/1000 [00:00<00:00, 1065.85it/s][A\n"
     ]
    }
   ],
   "source": [
    "ds = UnaryDefectsDataset(target[target.frame.isin(TRAIN_FRAMES)],\n",
    "                         frame_dir=DATA_DIR.joinpath(\"FRAMES\"),\n",
    "                         sample_num=1000,\n",
    "                         scaling=\"quantile\",\n",
    "                         percentiles=[5, 95],\n",
    "                         resize=4,\n",
    "                         references=[-0.25, 0.25],\n",
    "                         random_state=RS)"
   ]
  },
  {
   "cell_type": "code",
   "execution_count": 340,
   "id": "91b49d9e",
   "metadata": {
    "ExecuteTime": {
     "end_time": "2023-12-17T00:54:39.947819Z",
     "start_time": "2023-12-17T00:54:39.890828Z"
    }
   },
   "outputs": [],
   "source": [
    "img, label = ds[345]"
   ]
  },
  {
   "cell_type": "code",
   "execution_count": 341,
   "id": "54bb4f04",
   "metadata": {
    "ExecuteTime": {
     "end_time": "2023-12-17T00:54:40.169858Z",
     "start_time": "2023-12-17T00:54:40.128153Z"
    }
   },
   "outputs": [
    {
     "data": {
      "text/html": [
       "<div>\n",
       "<style scoped>\n",
       "    .dataframe tbody tr th:only-of-type {\n",
       "        vertical-align: middle;\n",
       "    }\n",
       "\n",
       "    .dataframe tbody tr th {\n",
       "        vertical-align: top;\n",
       "    }\n",
       "\n",
       "    .dataframe thead th {\n",
       "        text-align: right;\n",
       "    }\n",
       "</style>\n",
       "<table border=\"1\" class=\"dataframe\">\n",
       "  <thead>\n",
       "    <tr style=\"text-align: right;\">\n",
       "      <th></th>\n",
       "      <th>colorcode</th>\n",
       "      <th>class</th>\n",
       "      <th>classname</th>\n",
       "    </tr>\n",
       "  </thead>\n",
       "  <tbody>\n",
       "    <tr>\n",
       "      <th>1</th>\n",
       "      <td>8833FFFF</td>\n",
       "      <td>1</td>\n",
       "      <td>потертость</td>\n",
       "    </tr>\n",
       "  </tbody>\n",
       "</table>\n",
       "</div>"
      ],
      "text/plain": [
       "  colorcode  class   classname\n",
       "1  8833FFFF      1  потертость"
      ]
     },
     "execution_count": 341,
     "metadata": {},
     "output_type": "execute_result"
    }
   ],
   "source": [
    "classes[classes[\"class\"]==label.argmax().item()]"
   ]
  },
  {
   "cell_type": "code",
   "execution_count": 342,
   "id": "0630f5bf",
   "metadata": {
    "ExecuteTime": {
     "end_time": "2023-12-17T00:54:41.442197Z",
     "start_time": "2023-12-17T00:54:41.385633Z"
    }
   },
   "outputs": [
    {
     "data": {
      "text/plain": [
       "(-1.1491897, 1.0205417)"
      ]
     },
     "execution_count": 342,
     "metadata": {},
     "output_type": "execute_result"
    }
   ],
   "source": [
    "img.numpy().min(), img.numpy().max()"
   ]
  },
  {
   "cell_type": "code",
   "execution_count": 343,
   "id": "d2057fe3",
   "metadata": {
    "ExecuteTime": {
     "end_time": "2023-12-17T00:54:43.079501Z",
     "start_time": "2023-12-17T00:54:42.807135Z"
    }
   },
   "outputs": [
    {
     "data": {
      "text/plain": [
       "Text(0.5, 1.0, '')"
      ]
     },
     "execution_count": 343,
     "metadata": {},
     "output_type": "execute_result"
    },
    {
     "data": {
      "image/png": "[encoded data removed]",
      "text/plain": [
       "<Figure size 900x900 with 1 Axes>"
      ]
     },
     "metadata": {
      "needs_background": "light"
     },
     "output_type": "display_data"
    }
   ],
   "source": [
    "plt.imshow(img.numpy().squeeze(), cmap=plt.cm.gray, vmin=-2, vmax=2)\n",
    "plt.grid(None)\n",
    "plt.title(f\"\")"
   ]
  },
  {
   "cell_type": "code",
   "execution_count": 344,
   "id": "f940f598",
   "metadata": {
    "ExecuteTime": {
     "end_time": "2023-12-17T00:55:27.540115Z",
     "start_time": "2023-12-17T00:55:27.473822Z"
    }
   },
   "outputs": [],
   "source": [
    "class UnaryDefectDataModule(pl.LightningDataModule):\n",
    "    \"\"\"DataModule for defects data.\"\"\"\n",
    "\n",
    "    def __init__(self,\n",
    "                 train_defects: pd.DataFrame,\n",
    "                 val_defects: pd.DataFrame,\n",
    "                 test_defects: pd.DataFrame,\n",
    "                 frame_dir: Union[str, pathlib.Path],\n",
    "                 sample_dim: int = 120,\n",
    "                 sample_num: Optional[int] = None,\n",
    "                 resize: Optional[int] = None,\n",
    "                 scaling: str = \"range\",\n",
    "                 percentiles: list = [25, 75],\n",
    "                 references: list = [-0.25, 0.25],\n",
    "                 workers: int = 3,\n",
    "                 batch_size: int = 64,\n",
    "                 random_state: Optional[int] = None,\n",
    "                 verbose: bool = False):\n",
    "\n",
    "        super().__init__()\n",
    "\n",
    "        self.train_defects = train_defects\n",
    "        self.val_defects = val_defects\n",
    "        self.test_defects = test_defects\n",
    "        self.frame_dir = pathlib.Path(frame_dir)\n",
    "        self.sample_dim = sample_dim\n",
    "        self.sample_num = sample_num\n",
    "        self.resize = resize\n",
    "        self.scaling = scaling\n",
    "        self.percentiles = percentiles\n",
    "        self.references = references\n",
    "        self.workers = workers\n",
    "        self.batch_size = batch_size\n",
    "        self.random_state = random_state\n",
    "        self.verbose = verbose\n",
    "\n",
    "    def setup(self, stage=None):\n",
    "        if stage == \"fit\" or stage is None:\n",
    "            self.train_ds = UnaryDefectsDataset(self.train_defects,\n",
    "                                                frame_dir=self.frame_dir,\n",
    "                                                sample_dim=self.sample_dim,\n",
    "                                                sample_num=self.sample_num,\n",
    "                                                resize=self.resize,\n",
    "                                                scaling=self.scaling,\n",
    "                                                percentiles=self.percentiles,\n",
    "                                                references=self.references,\n",
    "                                                tag=\"train\",\n",
    "                                                random_state=self.random_state,\n",
    "                                                verbose=self.verbose)\n",
    "            self.val_ds = UnaryDefectsDataset(self.val_defects,\n",
    "                                              frame_dir=self.frame_dir,\n",
    "                                              sample_dim=self.sample_dim,\n",
    "                                              sample_num=self.sample_num,\n",
    "                                              resize=self.resize,\n",
    "                                              scaling=self.scaling,\n",
    "                                              percentiles=self.percentiles,\n",
    "                                              references=self.references,\n",
    "                                              tag=\"val\",\n",
    "                                              random_state=self.random_state,\n",
    "                                              verbose=self.verbose)\n",
    "\n",
    "        if stage == \"test\" or stage is None:\n",
    "            self.test_ds = UnaryDefectsDataset(self.test_defects,\n",
    "                                               frame_dir=self.frame_dir,\n",
    "                                               sample_dim=self.sample_dim,\n",
    "                                               sample_num=self.sample_num,\n",
    "                                               resize=self.resize,\n",
    "                                               scaling=self.scaling,\n",
    "                                               percentiles=self.percentiles,\n",
    "                                               references=self.references,\n",
    "                                               tag=\"test\",\n",
    "                                               random_state=self.random_state,\n",
    "                                               verbose=self.verbose)\n",
    "    \n",
    "    def train_dataloader(self):\n",
    "        return DataLoader(self.train_ds, batch_size=self.batch_size, num_workers=self.workers)\n",
    "\n",
    "    def val_dataloader(self):\n",
    "        return DataLoader(self.val_ds, batch_size=self.batch_size, num_workers=self.workers)\n",
    "\n",
    "    def test_dataloader(self):\n",
    "        return DataLoader(self.test_ds, batch_size=self.batch_size, num_workers=self.workers)"
   ]
  },
  {
   "cell_type": "code",
   "execution_count": 519,
   "id": "727e6ed9",
   "metadata": {
    "ExecuteTime": {
     "end_time": "2023-12-17T03:11:12.879125Z",
     "start_time": "2023-12-17T03:11:10.038006Z"
    }
   },
   "outputs": [
    {
     "name": "stderr",
     "output_type": "stream",
     "text": [
      "\n",
      "  0%|          | 0/1000 [00:00<?, ?it/s]\u001b[A2023-12-17 06:11:10 localhost.localdomain train[18496] WARNING sample 2022.10.17/2_517.frame is outside the frame: (114:234, -3:117)\n",
      "\n",
      " 10%|█         | 105/1000 [00:00<00:00, 1043.50it/s]\u001b[A2023-12-17 06:11:10 localhost.localdomain train[18496] WARNING sample 2022.07.21/1/0_523.frame is outside the frame: (-10:110, 795:915)\n",
      "\n",
      " 23%|██▎       | 232/1000 [00:00<00:00, 1168.19it/s]\u001b[A2023-12-17 06:11:10 localhost.localdomain train[18496] WARNING sample 2023.09.07 13-09-28 78-23-04_1/1_824.frame is outside the frame: (-13:107, 713:833)\n",
      "\n",
      " 36%|███▌      | 361/1000 [00:00<00:00, 1221.93it/s]\u001b[A\n",
      " 48%|████▊     | 484/1000 [00:00<00:00, 1194.29it/s]\u001b[A\n",
      " 61%|██████    | 607/1000 [00:00<00:00, 1205.18it/s]\u001b[A2023-12-17 06:11:10 localhost.localdomain train[18496] WARNING sample 2023.06.27 08-39-37 58-23-04_1/3_123.frame is outside the frame: (36:156, 846:966)\n",
      "\n",
      " 73%|███████▎  | 728/1000 [00:00<00:00, 1174.53it/s]\u001b[A2023-12-17 06:11:10 localhost.localdomain train[18496] WARNING sample 2023.06.05/4_196.frame is outside the frame: (483:603, 271:391)\n",
      "\n",
      " 85%|████████▍ | 846/1000 [00:00<00:00, 1147.86it/s]\u001b[A2023-12-17 06:11:10 localhost.localdomain train[18496] WARNING sample 2023.01.11/4_324.frame is outside the frame: (3:123, -12:108)\n",
      "\n",
      "100%|██████████| 1000/1000 [00:00<00:00, 1164.30it/s][A\n",
      "\n",
      "  0%|          | 0/1000 [00:00<?, ?it/s]\u001b[A2023-12-17 06:11:11 localhost.localdomain val[18496] WARNING sample 2023.06.27 08-39-37 58-23-04_1/1_749.frame is outside the frame: (497:617, 297:417)\n",
      "\n",
      "  9%|▉         | 89/1000 [00:00<00:01, 889.07it/s]\u001b[A2023-12-17 06:11:11 localhost.localdomain val[18496] WARNING sample 2023.04.18/3_521.frame is outside the frame: (-2:118, 540:660)\n",
      "\n",
      " 19%|█▉        | 189/1000 [00:00<00:00, 952.67it/s]\u001b[A\n",
      " 30%|██▉       | 298/1000 [00:00<00:00, 1014.40it/s]\u001b[A\n",
      " 41%|████      | 410/1000 [00:00<00:00, 1055.72it/s]\u001b[A\n",
      " 52%|█████▏    | 516/1000 [00:00<00:00, 959.81it/s] \u001b[A2023-12-17 06:11:11 localhost.localdomain val[18496] WARNING sample 2023.10.10 804-23-04_1/4_297.frame is outside the frame: (-4:116, 452:572)\n",
      "\n",
      " 61%|██████▏   | 614/1000 [00:00<00:00, 937.21it/s]\u001b[A\n",
      " 72%|███████▏  | 720/1000 [00:00<00:00, 973.07it/s]\u001b[A2023-12-17 06:11:11 localhost.localdomain val[18496] WARNING sample 2022.11.25/5_474.frame is outside the frame: (-8:112, 285:405)\n",
      "\n",
      " 84%|████████▍ | 841/1000 [00:00<00:00, 1043.99it/s]\u001b[A2023-12-17 06:11:11 localhost.localdomain val[18496] WARNING sample 2023.06.15/4_427.frame is outside the frame: (484:604, 718:838)\n",
      "2023-12-17 06:11:11 localhost.localdomain val[18496] WARNING sample 2023.06.27 08-39-37 58-23-04_1/1_749.frame is outside the frame: (482:602, 717:837)\n",
      "2023-12-17 06:11:11 localhost.localdomain val[18496] WARNING sample 2022.10.24/0_229.frame is outside the frame: (495:615, 119:239)\n",
      "\n",
      "100%|██████████| 1000/1000 [00:00<00:00, 1000.28it/s][A\n",
      "\n",
      "  0%|          | 0/1000 [00:00<?, ?it/s]\u001b[A\n",
      " 10%|▉         | 95/1000 [00:00<00:00, 946.64it/s]\u001b[A\n",
      " 19%|█▉        | 194/1000 [00:00<00:00, 968.73it/s]\u001b[A2023-12-17 06:11:12 localhost.localdomain test[18496] WARNING sample 2023.09.05 83-23-04_1/5_279.frame is outside the frame: (-5:115, 369:489)\n",
      "\n",
      " 32%|███▎      | 325/1000 [00:00<00:00, 1122.28it/s]\u001b[A2023-12-17 06:11:12 localhost.localdomain test[18496] WARNING sample 2023.04.11 брак/1_765.frame is outside the frame: (500:620, 493:613)\n",
      "\n",
      " 44%|████▍     | 438/1000 [00:00<00:00, 1123.52it/s]\u001b[A2023-12-17 06:11:12 localhost.localdomain test[18496] WARNING sample 2023.01.09/T52_dist_1_frame_2.frame is outside the frame: (502:622, 398:518)\n",
      "\n",
      " 56%|█████▌    | 556/1000 [00:00<00:00, 1141.91it/s]\u001b[A2023-12-17 06:11:12 localhost.localdomain test[18496] WARNING sample 2023.06.21 57-23-05_1/5_596.frame is outside the frame: (-9:111, 407:527)\n",
      "\n",
      " 67%|██████▋   | 673/1000 [00:00<00:00, 1150.40it/s]\u001b[A\n",
      " 79%|███████▉  | 789/1000 [00:00<00:00, 1144.58it/s]\u001b[A2023-12-17 06:11:12 localhost.localdomain test[18496] WARNING sample 2023.09.05 78-23-04_1/3_164.frame is outside the frame: (-60:60, 376:496)\n",
      "2023-12-17 06:11:12 localhost.localdomain test[18496] WARNING sample 2023.04.10 брак/2_290.frame is outside the frame: (504:624, 623:743)\n",
      "\n",
      "100%|██████████| 1000/1000 [00:00<00:00, 1117.53it/s][A\n"
     ]
    }
   ],
   "source": [
    "dm = UnaryDefectDataModule(target[target.frame.isin(TRAIN_FRAMES)],\n",
    "                           target[target.frame.isin(VAL_FRAMES)],\n",
    "                           target[target.frame.isin(TEST_FRAMES)],\n",
    "                           frame_dir=DATA_DIR.joinpath(\"FRAMES\"),\n",
    "                           scaling=\"quantile\",\n",
    "                           resize=3,\n",
    "                           percentiles=[25, 75],\n",
    "                           references=[-0.05, 0.05],\n",
    "                           sample_num=1000,\n",
    "                           random_state=RS)\n",
    "dm.setup()"
   ]
  },
  {
   "cell_type": "code",
   "execution_count": 520,
   "id": "56a7c3a6",
   "metadata": {
    "ExecuteTime": {
     "end_time": "2023-12-17T03:11:14.845532Z",
     "start_time": "2023-12-17T03:11:14.794450Z"
    }
   },
   "outputs": [
    {
     "data": {
      "text/plain": [
       "(994, 993, 994)"
      ]
     },
     "execution_count": 520,
     "metadata": {},
     "output_type": "execute_result"
    }
   ],
   "source": [
    "len(dm.train_ds), len(dm.val_ds), len(dm.test_ds)"
   ]
  },
  {
   "cell_type": "code",
   "execution_count": 521,
   "id": "ca923778",
   "metadata": {
    "ExecuteTime": {
     "end_time": "2023-12-17T03:11:18.228030Z",
     "start_time": "2023-12-17T03:11:17.625507Z"
    }
   },
   "outputs": [],
   "source": [
    "imgs, labels = next(iter(dm.train_dataloader()))"
   ]
  },
  {
   "cell_type": "code",
   "execution_count": 522,
   "id": "48d81321",
   "metadata": {
    "ExecuteTime": {
     "end_time": "2023-12-17T03:11:18.468736Z",
     "start_time": "2023-12-17T03:11:18.409620Z"
    }
   },
   "outputs": [
    {
     "data": {
      "text/html": [
       "<div>\n",
       "<style scoped>\n",
       "    .dataframe tbody tr th:only-of-type {\n",
       "        vertical-align: middle;\n",
       "    }\n",
       "\n",
       "    .dataframe tbody tr th {\n",
       "        vertical-align: top;\n",
       "    }\n",
       "\n",
       "    .dataframe thead th {\n",
       "        text-align: right;\n",
       "    }\n",
       "</style>\n",
       "<table border=\"1\" class=\"dataframe\">\n",
       "  <thead>\n",
       "    <tr style=\"text-align: right;\">\n",
       "      <th></th>\n",
       "      <th>colorcode</th>\n",
       "      <th>class</th>\n",
       "      <th>classname</th>\n",
       "    </tr>\n",
       "  </thead>\n",
       "  <tbody>\n",
       "    <tr>\n",
       "      <th>0</th>\n",
       "      <td>66FF66AA</td>\n",
       "      <td>0</td>\n",
       "      <td>не дефект</td>\n",
       "    </tr>\n",
       "    <tr>\n",
       "      <th>0</th>\n",
       "      <td>66FF66AA</td>\n",
       "      <td>0</td>\n",
       "      <td>не дефект</td>\n",
       "    </tr>\n",
       "    <tr>\n",
       "      <th>0</th>\n",
       "      <td>66FF66AA</td>\n",
       "      <td>0</td>\n",
       "      <td>не дефект</td>\n",
       "    </tr>\n",
       "    <tr>\n",
       "      <th>0</th>\n",
       "      <td>66FF66AA</td>\n",
       "      <td>0</td>\n",
       "      <td>не дефект</td>\n",
       "    </tr>\n",
       "    <tr>\n",
       "      <th>0</th>\n",
       "      <td>66FF66AA</td>\n",
       "      <td>0</td>\n",
       "      <td>не дефект</td>\n",
       "    </tr>\n",
       "    <tr>\n",
       "      <th>...</th>\n",
       "      <td>...</td>\n",
       "      <td>...</td>\n",
       "      <td>...</td>\n",
       "    </tr>\n",
       "    <tr>\n",
       "      <th>0</th>\n",
       "      <td>66FF66AA</td>\n",
       "      <td>0</td>\n",
       "      <td>не дефект</td>\n",
       "    </tr>\n",
       "    <tr>\n",
       "      <th>9</th>\n",
       "      <td>880088FF</td>\n",
       "      <td>9</td>\n",
       "      <td>н.д. микровыступ</td>\n",
       "    </tr>\n",
       "    <tr>\n",
       "      <th>0</th>\n",
       "      <td>66FF66AA</td>\n",
       "      <td>0</td>\n",
       "      <td>не дефект</td>\n",
       "    </tr>\n",
       "    <tr>\n",
       "      <th>0</th>\n",
       "      <td>66FF66AA</td>\n",
       "      <td>0</td>\n",
       "      <td>не дефект</td>\n",
       "    </tr>\n",
       "    <tr>\n",
       "      <th>0</th>\n",
       "      <td>66FF66AA</td>\n",
       "      <td>0</td>\n",
       "      <td>не дефект</td>\n",
       "    </tr>\n",
       "  </tbody>\n",
       "</table>\n",
       "<p>64 rows × 3 columns</p>\n",
       "</div>"
      ],
      "text/plain": [
       "   colorcode  class         classname\n",
       "0   66FF66AA      0         не дефект\n",
       "0   66FF66AA      0         не дефект\n",
       "0   66FF66AA      0         не дефект\n",
       "0   66FF66AA      0         не дефект\n",
       "0   66FF66AA      0         не дефект\n",
       "..       ...    ...               ...\n",
       "0   66FF66AA      0         не дефект\n",
       "9   880088FF      9  н.д. микровыступ\n",
       "0   66FF66AA      0         не дефект\n",
       "0   66FF66AA      0         не дефект\n",
       "0   66FF66AA      0         не дефект\n",
       "\n",
       "[64 rows x 3 columns]"
      ]
     },
     "execution_count": 522,
     "metadata": {},
     "output_type": "execute_result"
    }
   ],
   "source": [
    "classes.iloc[labels.argmax(axis=1).numpy()]"
   ]
  },
  {
   "cell_type": "code",
   "execution_count": 523,
   "id": "9b0c3de0",
   "metadata": {
    "ExecuteTime": {
     "end_time": "2023-12-17T03:11:22.058329Z",
     "start_time": "2023-12-17T03:11:19.927624Z"
    }
   },
   "outputs": [
    {
     "data": {
      "image/png": "[encoded data removed]",
      "text/plain": [
       "<Figure size 1800x1800 with 64 Axes>"
      ]
     },
     "metadata": {},
     "output_type": "display_data"
    }
   ],
   "source": [
    "batch_labels = classes.iloc[labels.argmax(axis=1).numpy()]\n",
    "batch = imgs.numpy().squeeze()\n",
    "\n",
    "plt.figure(figsize=(12,12))\n",
    "\n",
    "for i in range(64):\n",
    "    plt.subplot(8, 8, i + 1)\n",
    "    plt.imshow(batch[i], cmap=plt.cm.gray, vmin=-1, vmax=1)\n",
    "    plt.grid(None)\n",
    "    plt.xticks([])\n",
    "    plt.yticks([])\n",
    "    plt.gca().axis(\"off\")\n",
    "    plt.title(f\"{batch_labels.iloc[i]['classname']}\", fontsize=6)\n",
    "\n",
    "plt.tight_layout()\n",
    "plt.show()"
   ]
  },
  {
   "cell_type": "markdown",
   "id": "0650ce0b",
   "metadata": {
    "ExecuteTime": {
     "end_time": "2023-12-16T23:21:48.576990Z",
     "start_time": "2023-12-16T23:21:48.348663Z"
    }
   },
   "source": [
    "# Базовая модель"
   ]
  },
  {
   "cell_type": "code",
   "execution_count": 336,
   "id": "6ad35068",
   "metadata": {
    "ExecuteTime": {
     "end_time": "2023-12-17T00:49:12.964589Z",
     "start_time": "2023-12-17T00:49:12.894455Z"
    }
   },
   "outputs": [],
   "source": [
    "from sklearn.metrics import f1_score, confusion_matrix, classification_report, accuracy_score"
   ]
  },
  {
   "cell_type": "code",
   "execution_count": 629,
   "id": "f67d380f",
   "metadata": {
    "ExecuteTime": {
     "end_time": "2023-12-17T04:14:57.392564Z",
     "start_time": "2023-12-17T04:14:57.319521Z"
    }
   },
   "outputs": [],
   "source": [
    "class UnaryDefectsModel(pl.LightningModule):\n",
    "    \"\"\"Convolutional model for surface defects detection.\"\"\"\n",
    "   \n",
    "    def __init__(self,\n",
    "                 input_channels: int = 1,\n",
    "                 weight: Optional[list] = None,\n",
    "                 lr: float = 1e-3):\n",
    "        super().__init__()\n",
    "\n",
    "        self.input_channels = input_channels\n",
    "        self.weight = weight\n",
    "        self.lr = lr\n",
    "\n",
    "        self.pool = nn.MaxPool2d(2)\n",
    "        self.conv_act = nn.ReLU()\n",
    "        self.dropout = nn.Dropout2d(0.5)\n",
    "\n",
    "        # 1st Conv2D module\n",
    "        self.conv_11 = nn.Conv2d(in_channels=self.input_channels,\n",
    "                                 out_channels=16,\n",
    "                                 kernel_size=3,\n",
    "                                 padding=4,\n",
    "                                 padding_mode=\"replicate\")\n",
    "        self.bn_11 = nn.BatchNorm2d(16)\n",
    "        self.conv_12 = nn.Conv2d(in_channels=16,\n",
    "                                 out_channels=16,\n",
    "                                 kernel_size=3,\n",
    "                                 padding=4,\n",
    "                                 padding_mode=\"replicate\")\n",
    "        self.bn_12 = nn.BatchNorm2d(16)\n",
    "\n",
    "        # 2d Conv2D module\n",
    "        self.conv_21 = nn.Conv2d(in_channels=16,\n",
    "                                 out_channels=32,\n",
    "                                 kernel_size=3,\n",
    "                                 padding=4,\n",
    "                                 padding_mode=\"replicate\")\n",
    "        self.bn_21 = nn.BatchNorm2d(32)\n",
    "        self.conv_22 = nn.Conv2d(in_channels=32,\n",
    "                                 out_channels=32,\n",
    "                                 kernel_size=3,\n",
    "                                 padding=4,\n",
    "                                 padding_mode=\"replicate\")\n",
    "        self.bn_22 = nn.BatchNorm2d(32)\n",
    "\n",
    "        # 3d Conv2D module\n",
    "        self.conv_3 = nn.Conv2d(in_channels=32,\n",
    "                                out_channels=64,\n",
    "                                kernel_size=3,\n",
    "                                padding=2,\n",
    "                                padding_mode=\"replicate\")\n",
    "        self.bn_3 = nn.BatchNorm2d(64)\n",
    "\n",
    "        # 4th Conv2D module\n",
    "        self.conv_4 = nn.Conv2d(in_channels=64,\n",
    "                                out_channels=64,\n",
    "                                kernel_size=3,\n",
    "                                padding=2,\n",
    "                                padding_mode=\"replicate\")\n",
    "\n",
    "        # 5th Conv2D module\n",
    "        self.conv_5 = nn.Conv2d(in_channels=64,\n",
    "                                out_channels=128,\n",
    "                                kernel_size=3,\n",
    "                                padding=2,\n",
    "                                padding_mode=\"replicate\")\n",
    "\n",
    "        # 6th Conv2D module\n",
    "        self.conv_6 = nn.Conv2d(in_channels=128,\n",
    "                                out_channels=256,\n",
    "                                kernel_size=3,\n",
    "                                padding=2,\n",
    "                                padding_mode=\"replicate\")\n",
    "\n",
    "        \n",
    "        # Fully-connected\n",
    "        self.fc_1 = nn.Linear(in_features=256, out_features=128)\n",
    "        self.act_1 = nn.ReLU()\n",
    "        self.fc_2 = nn.Linear(in_features=128, out_features=32)\n",
    "        self.act_2 = nn.ReLU()\n",
    "        self.fc_3 = nn.Linear(in_features=32, out_features=14)\n",
    "\n",
    "        \n",
    "        self.loss = nn.CrossEntropyLoss(torch.Tensor(self.weight) if weight else None)\n",
    "\n",
    "    def forward(self, x, y=None):\n",
    "\n",
    "        # Make a tensor 4D to process a single sample\n",
    "        if len(x.shape) < 4:\n",
    "            x = x.unsqueeze(0)\n",
    "\n",
    "        # 1st Conv2D\n",
    "        x = self.conv_11(x)\n",
    "        x = self.conv_act(x)\n",
    "        x = self.conv_12(x)\n",
    "        x = self.conv_act(x)\n",
    "        x = self.pool(x)\n",
    "        x = self.dropout(x)\n",
    "\n",
    "        # 2d Conv2D\n",
    "        x = self.conv_21(x)\n",
    "        x = self.conv_act(x)\n",
    "        x = self.conv_22(x)\n",
    "        x = self.conv_act(x)\n",
    "        x = self.pool(x)\n",
    "        x = self.dropout(x)\n",
    "\n",
    "        # 3d Conv2D\n",
    "        x = self.conv_3(x)\n",
    "        x = self.conv_act(x)\n",
    "        x = self.pool(x)\n",
    "        x = self.dropout(x)\n",
    "        x = self.dropout(x)\n",
    "        x = self.conv_4(x)\n",
    "        x = self.conv_act(x)\n",
    "        x = self.conv_5(x)\n",
    "        x = self.conv_act(x)\n",
    "        x = self.pool(x)\n",
    "        x = self.dropout(x)\n",
    "        x = self.conv_6(x)\n",
    "        x = self.conv_act(x)\n",
    "        x = x.amax(dim=[2,3])\n",
    "\n",
    "        # FC\n",
    "        x = self.fc_1(x)\n",
    "        x = self.act_1(x)\n",
    "        x = self.fc_2(x)\n",
    "        x = self.act_2(x)\n",
    "        x = self.fc_3(x)\n",
    "\n",
    "        return x\n",
    "\n",
    "    def step(self, batch, batch_idx, tag):\n",
    "        \"\"\"Make a single-batch pass through the net collecting the loss.\"\"\"\n",
    "\n",
    "        imgs, labels = batch\n",
    "\n",
    "        # Pushing through the network\n",
    "        out = self(imgs)\n",
    "\n",
    "        # Logging F1 and accuracy for the target\n",
    "        target = labels.argmax(axis=-1)\n",
    "        predicted = out.argmax(axis=-1)\n",
    "\n",
    "        self.log(f\"{tag}_f1\",\n",
    "                 f1_score(target.detach().numpy(), predicted.detach().numpy(), average=\"weighted\"),\n",
    "                 prog_bar=True)\n",
    "\n",
    "        self.log(f\"{tag}_acc\",\n",
    "                 accuracy_score(target.detach().numpy(), predicted.detach().numpy()),\n",
    "                 prog_bar=True)\n",
    "\n",
    "        loss = self.loss(out, target)\n",
    "\n",
    "        self.log(f\"{tag}_loss\", loss, prog_bar=True)\n",
    "        return loss\n",
    "\n",
    "    def training_step(self, batch, batch_idx):\n",
    "        loss = self.step(batch, batch_idx, \"train\")\n",
    "        return loss\n",
    "\n",
    "    def validation_step(self, batch, batch_idx):\n",
    "        loss = self.step(batch, batch_idx, \"val\")\n",
    "        return loss\n",
    "\n",
    "    def test_step(self, batch, batch_idx):\n",
    "        loss = self.step(batch, batch_idx, \"test\")\n",
    "        return loss\n",
    "\n",
    "    def configure_optimizers(self):\n",
    "        optimizer = torch.optim.Adam(self.parameters(), lr=self.lr)\n",
    "        return optimizer"
   ]
  },
  {
   "cell_type": "code",
   "execution_count": 630,
   "id": "db7b7641",
   "metadata": {
    "ExecuteTime": {
     "end_time": "2023-12-17T04:14:57.802096Z",
     "start_time": "2023-12-17T04:14:57.753531Z"
    }
   },
   "outputs": [],
   "source": [
    "model = UnaryDefectsModel(weight=[0.2] + [1] * 13)"
   ]
  },
  {
   "cell_type": "markdown",
   "id": "5affec43",
   "metadata": {},
   "source": [
    "Батч:"
   ]
  },
  {
   "cell_type": "code",
   "execution_count": 631,
   "id": "175c9e70",
   "metadata": {
    "ExecuteTime": {
     "end_time": "2023-12-17T04:14:58.300891Z",
     "start_time": "2023-12-17T04:14:58.178992Z"
    }
   },
   "outputs": [
    {
     "data": {
      "text/plain": [
       "torch.Size([64, 14])"
      ]
     },
     "execution_count": 631,
     "metadata": {},
     "output_type": "execute_result"
    }
   ],
   "source": [
    "model(imgs).shape"
   ]
  },
  {
   "cell_type": "markdown",
   "id": "54504453",
   "metadata": {},
   "source": [
    "Один семпл:"
   ]
  },
  {
   "cell_type": "code",
   "execution_count": 632,
   "id": "877baae1",
   "metadata": {
    "ExecuteTime": {
     "end_time": "2023-12-17T04:14:59.016966Z",
     "start_time": "2023-12-17T04:14:58.954775Z"
    }
   },
   "outputs": [
    {
     "data": {
      "text/plain": [
       "torch.Size([1, 14])"
      ]
     },
     "execution_count": 632,
     "metadata": {},
     "output_type": "execute_result"
    }
   ],
   "source": [
    "model(img).shape"
   ]
  },
  {
   "cell_type": "markdown",
   "id": "8010bec7",
   "metadata": {},
   "source": [
    "# Тренировка модели"
   ]
  },
  {
   "cell_type": "code",
   "execution_count": 633,
   "id": "9c5d6c8f",
   "metadata": {
    "ExecuteTime": {
     "end_time": "2023-12-17T04:15:00.147860Z",
     "start_time": "2023-12-17T04:15:00.100587Z"
    }
   },
   "outputs": [],
   "source": [
    "from pytorch_lightning import loggers as pl_loggers"
   ]
  },
  {
   "cell_type": "code",
   "execution_count": 658,
   "id": "7b64d2b7",
   "metadata": {
    "ExecuteTime": {
     "end_time": "2023-12-17T04:47:56.819457Z",
     "start_time": "2023-12-17T04:47:56.757739Z"
    }
   },
   "outputs": [
    {
     "name": "stderr",
     "output_type": "stream",
     "text": [
      "/home/traveller/.local/lib/python3.8/site-packages/pytorch_lightning/utilities/distributed.py:69: UserWarning: Checkpoint directory checkpoints exists and is not empty.\n",
      "  warnings.warn(*args, **kwargs)\n"
     ]
    }
   ],
   "source": [
    "LOG_DIR = pathlib.Path(\"./\")\n",
    "EXPERIMENT = \"unary_0.1a\"\n",
    "TAGS = [\"unary\", \"atomic\"]\n",
    "VERSION = \"0.21a\"\n",
    "\n",
    "tb_logger = pl_loggers.TensorBoardLogger(name=EXPERIMENT,\n",
    "                                         version=VERSION,\n",
    "                                         save_dir=LOG_DIR.joinpath(\"tb_logs\"))\n",
    "\n",
    "early_stopping = pl.callbacks.EarlyStopping('val_f1', patience=15)\n",
    "checkpoints = pl.callbacks.ModelCheckpoint(dirpath=LOG_DIR.joinpath('checkpoints'),\n",
    "                                           filename=(f\"unary-{VERSION}\"\n",
    "                                                     + \"_{epoch:02d}-{val_f1:.4f}-{val_loss:.4f}\"),\n",
    "                                           save_top_k=1,\n",
    "                                           verbose=True,\n",
    "                                           monitor='val_f1',\n",
    "                                           mode='max')"
   ]
  },
  {
   "cell_type": "code",
   "execution_count": 659,
   "id": "022067af",
   "metadata": {
    "ExecuteTime": {
     "end_time": "2023-12-17T04:47:59.877210Z",
     "start_time": "2023-12-17T04:47:59.804459Z"
    }
   },
   "outputs": [],
   "source": [
    "dm = UnaryDefectDataModule(target[target.frame.isin(TRAIN_FRAMES)],\n",
    "                           target[target.frame.isin(VAL_FRAMES)],\n",
    "                           target[target.frame.isin(TEST_FRAMES)],\n",
    "                           frame_dir=DATA_DIR.joinpath(\"FRAMES\"),\n",
    "                           scaling=\"quantile\",\n",
    "                           percentiles=[25, 75],\n",
    "                           references=[-0.25, 0.25],\n",
    "                           resize=4,\n",
    "                           sample_num=10000,\n",
    "                           random_state=RS)\n",
    "model = UnaryDefectsModel()"
   ]
  },
  {
   "cell_type": "code",
   "execution_count": 660,
   "id": "8211c819",
   "metadata": {
    "ExecuteTime": {
     "end_time": "2023-12-17T04:48:05.856571Z",
     "start_time": "2023-12-17T04:48:05.795761Z"
    }
   },
   "outputs": [
    {
     "data": {
      "text/plain": [
       "<All keys matched successfully>"
      ]
     },
     "execution_count": 660,
     "metadata": {},
     "output_type": "execute_result"
    }
   ],
   "source": [
    "model.load_state_dict(torch.load(LOG_DIR.joinpath(\"checkpoints\", \"unary-0.20a_epoch=10-val_f1=0.8728-val_loss=0.3368.ckpt\"))[\"state_dict\"])"
   ]
  },
  {
   "cell_type": "code",
   "execution_count": 661,
   "id": "b1978c3d",
   "metadata": {
    "ExecuteTime": {
     "end_time": "2023-12-17T05:08:49.903513Z",
     "start_time": "2023-12-17T04:48:06.960277Z"
    }
   },
   "outputs": [
    {
     "name": "stderr",
     "output_type": "stream",
     "text": [
      "GPU available: False, used: False\n",
      "TPU available: False, using: 0 TPU cores\n",
      "\n",
      "  0%|          | 0/10000 [00:00<?, ?it/s]\u001b[A2023-12-17 07:48:07 localhost.localdomain train[18496] WARNING sample 2022.10.17/2_517.frame is outside the frame: (114:234, -3:117)\n",
      "\n",
      "  0%|          | 43/10000 [00:00<00:23, 428.49it/s]\u001b[A\n",
      "  1%|          | 89/10000 [00:00<00:22, 435.24it/s]\u001b[A\n",
      "  1%|▏         | 133/10000 [00:00<00:23, 418.72it/s]\u001b[A2023-12-17 07:48:07 localhost.localdomain train[18496] WARNING sample 2022.07.21/1/0_523.frame is outside the frame: (-10:110, 795:915)\n",
      "\n",
      "  2%|▏         | 177/10000 [00:00<00:23, 425.76it/s]\u001b[A\n",
      "  2%|▏         | 224/10000 [00:00<00:22, 439.64it/s]\u001b[A\n",
      "  3%|▎         | 272/10000 [00:00<00:21, 452.60it/s]\u001b[A\n",
      "  3%|▎         | 319/10000 [00:00<00:21, 455.87it/s]\u001b[A2023-12-17 07:48:07 localhost.localdomain train[18496] WARNING sample 2023.09.07 13-09-28 78-23-04_1/1_824.frame is outside the frame: (-13:107, 713:833)\n",
      "\n",
      "  4%|▎         | 365/10000 [00:00<00:21, 454.11it/s]\u001b[A\n",
      "  4%|▍         | 412/10000 [00:00<00:20, 457.56it/s]\u001b[A\n",
      "  5%|▍         | 461/10000 [00:01<00:20, 461.77it/s]\u001b[A\n",
      "  5%|▌         | 508/10000 [00:01<00:21, 435.08it/s]\u001b[A\n",
      "  6%|▌         | 555/10000 [00:01<00:21, 442.19it/s]\u001b[A\n",
      "  6%|▌         | 600/10000 [00:01<00:21, 442.59it/s]\u001b[A2023-12-17 07:48:08 localhost.localdomain train[18496] WARNING sample 2023.06.27 08-39-37 58-23-04_1/3_123.frame is outside the frame: (36:156, 846:966)\n",
      "\n",
      "  6%|▋         | 645/10000 [00:01<00:21, 444.23it/s]\u001b[A\n",
      "  7%|▋         | 690/10000 [00:01<00:21, 425.51it/s]\u001b[A\n",
      "  7%|▋         | 740/10000 [00:01<00:20, 444.08it/s]\u001b[A2023-12-17 07:48:08 localhost.localdomain train[18496] WARNING sample 2023.06.05/4_196.frame is outside the frame: (483:603, 271:391)\n",
      "\n",
      "  8%|▊         | 787/10000 [00:01<00:20, 448.33it/s]\u001b[A\n",
      "  8%|▊         | 833/10000 [00:01<00:21, 430.51it/s]\u001b[A\n",
      "  9%|▉         | 884/10000 [00:01<00:20, 452.74it/s]\u001b[A2023-12-17 07:48:09 localhost.localdomain train[18496] WARNING sample 2023.01.11/4_324.frame is outside the frame: (3:123, -12:108)\n",
      "\n",
      "  9%|▉         | 933/10000 [00:02<00:19, 461.70it/s]\u001b[A\n",
      " 10%|▉         | 980/10000 [00:02<00:19, 459.01it/s]\u001b[A\n",
      " 10%|█         | 1032/10000 [00:02<00:18, 476.11it/s]\u001b[A2023-12-17 07:48:09 localhost.localdomain train[18496] WARNING sample 2023.06.16 09-22-15 57-23-06_1/1_737.frame is outside the frame: (14:134, -29:91)\n",
      "\n",
      " 11%|█         | 1086/10000 [00:02<00:18, 493.59it/s]\u001b[A2023-12-17 07:48:09 localhost.localdomain train[18496] WARNING sample 2023.09.05 78-23-04_1/5_805.frame is outside the frame: (-15:105, 380:500)\n",
      "\n",
      " 11%|█▏        | 1136/10000 [00:02<00:18, 491.16it/s]\u001b[A\n",
      " 12%|█▏        | 1187/10000 [00:02<00:17, 496.04it/s]\u001b[A\n",
      " 12%|█▏        | 1241/10000 [00:02<00:17, 507.07it/s]\u001b[A\n",
      " 13%|█▎        | 1292/10000 [00:02<00:17, 507.67it/s]\u001b[A2023-12-17 07:48:09 localhost.localdomain train[18496] WARNING sample 2023.01.09/3_144.frame is outside the frame: (-6:114, 340:460)\n",
      "\n",
      " 13%|█▎        | 1343/10000 [00:02<00:17, 498.37it/s]\u001b[A\n",
      " 14%|█▍        | 1395/10000 [00:03<00:17, 504.16it/s]\u001b[A\n",
      " 14%|█▍        | 1450/10000 [00:03<00:16, 514.27it/s]\u001b[A\n",
      " 15%|█▌        | 1502/10000 [00:03<00:17, 497.95it/s]\u001b[A2023-12-17 07:48:10 localhost.localdomain train[18496] WARNING sample 2023.08.08 71-23-07_1/4_217.frame is outside the frame: (513:633, 147:267)\n",
      "\n",
      " 16%|█▌        | 1559/10000 [00:03<00:16, 516.95it/s]\u001b[A\n",
      " 16%|█▌        | 1611/10000 [00:03<00:16, 510.39it/s]\u001b[A\n",
      " 17%|█▋        | 1663/10000 [00:03<00:16, 511.17it/s]\u001b[A2023-12-17 07:48:10 localhost.localdomain train[18496] WARNING sample 2023.04.18/5_166.frame is outside the frame: (-7:113, 182:302)\n",
      "\n",
      " 17%|█▋        | 1715/10000 [00:03<00:16, 506.67it/s]\u001b[A2023-12-17 07:48:10 localhost.localdomain train[18496] WARNING sample 2023.05.16/0/4_633.frame is outside the frame: (-9:111, 121:241)\n",
      "\n",
      " 18%|█▊        | 1766/10000 [00:03<00:16, 499.28it/s]\u001b[A\n",
      " 18%|█▊        | 1816/10000 [00:03<00:16, 497.20it/s]\u001b[A\n",
      " 19%|█▊        | 1866/10000 [00:03<00:17, 472.80it/s]\u001b[A\n",
      " 19%|█▉        | 1914/10000 [00:04<00:17, 472.95it/s]\u001b[A\n",
      " 20%|█▉        | 1962/10000 [00:04<00:16, 473.89it/s]\u001b[A\n",
      " 20%|██        | 2018/10000 [00:04<00:16, 498.45it/s]\u001b[A2023-12-17 07:48:11 localhost.localdomain train[18496] WARNING sample 2023.07.17 60-23-07_1/2_684.frame is outside the frame: (484:604, 487:607)\n",
      "2023-12-17 07:48:11 localhost.localdomain train[18496] WARNING sample 0/n/12.frame is outside the frame: (108:228, 849:969)\n",
      "\n",
      " 21%|██        | 2069/10000 [00:04<00:15, 500.37it/s]\u001b[A\n",
      " 21%|██        | 2120/10000 [00:04<00:15, 501.58it/s]\u001b[A\n",
      " 22%|██▏       | 2171/10000 [00:04<00:15, 503.83it/s]\u001b[A2023-12-17 07:48:11 localhost.localdomain train[18496] WARNING sample 2023.07.12/2_809.frame is outside the frame: (488:608, 519:639)\n",
      "2023-12-17 07:48:11 localhost.localdomain train[18496] WARNING sample 2023.06.16 09-22-15 57-23-06_1/3_164.frame is outside the frame: (506:626, 42:162)\n",
      "\n",
      " 22%|██▏       | 2224/10000 [00:04<00:15, 510.99it/s]\u001b[A\n",
      " 23%|██▎       | 2276/10000 [00:04<00:15, 510.49it/s]\u001b[A\n",
      " 23%|██▎       | 2334/10000 [00:04<00:14, 529.35it/s]\u001b[A\n",
      " 24%|██▍       | 2388/10000 [00:04<00:14, 530.17it/s]\u001b[A2023-12-17 07:48:12 localhost.localdomain train[18496] WARNING sample 2023.08.08 71-23-07_1/4_217.frame is outside the frame: (496:616, 437:557)\n",
      "\n",
      " 24%|██▍       | 2444/10000 [00:05<00:14, 538.70it/s]\u001b[A\n",
      " 25%|██▌       | 2502/10000 [00:05<00:13, 550.86it/s]\u001b[A\n",
      " 26%|██▌       | 2563/10000 [00:05<00:13, 564.07it/s]\u001b[A\n",
      " 26%|██▌       | 2620/10000 [00:05<00:13, 548.15it/s]\u001b[A\n",
      " 27%|██▋       | 2677/10000 [00:05<00:13, 553.55it/s]\u001b[A\n",
      " 27%|██▋       | 2733/10000 [00:05<00:13, 550.40it/s]\u001b[A2023-12-17 07:48:12 localhost.localdomain train[18496] WARNING sample 2023.08.10 79-23-02_1/1_130.frame is outside the frame: (-3:117, 248:368)\n",
      "\n",
      " 28%|██▊       | 2792/10000 [00:05<00:12, 560.80it/s]\u001b[A\n",
      " 28%|██▊       | 2849/10000 [00:05<00:13, 540.84it/s]\u001b[A2023-12-17 07:48:12 localhost.localdomain train[18496] WARNING sample 2022.11.24/5_460.frame is outside the frame: (482:602, 682:802)\n",
      "\n",
      " 29%|██▉       | 2904/10000 [00:05<00:13, 522.83it/s]\u001b[A\n",
      " 30%|██▉       | 2957/10000 [00:06<00:13, 517.45it/s]\u001b[A\n",
      " 30%|███       | 3011/10000 [00:06<00:13, 522.27it/s]\u001b[A\n",
      " 31%|███       | 3070/10000 [00:06<00:12, 540.90it/s]\u001b[A\n",
      " 31%|███▏      | 3126/10000 [00:06<00:12, 544.37it/s]\u001b[A\n",
      " 32%|███▏      | 3182/10000 [00:06<00:12, 548.28it/s]\u001b[A\n",
      " 32%|███▏      | 3240/10000 [00:06<00:12, 556.56it/s]\u001b[A2023-12-17 07:48:13 localhost.localdomain train[18496] WARNING sample 2023.08.07/5_338.frame is outside the frame: (-12:108, 677:797)\n",
      "\n",
      " 33%|███▎      | 3296/10000 [00:06<00:12, 545.29it/s]\u001b[A\n",
      " 34%|███▎      | 3353/10000 [00:06<00:12, 552.29it/s]\u001b[A\n",
      " 34%|███▍      | 3409/10000 [00:06<00:11, 553.96it/s]\u001b[A\n",
      " 35%|███▍      | 3474/10000 [00:06<00:11, 581.75it/s]\u001b[A2023-12-17 07:48:14 localhost.localdomain train[18496] WARNING sample 2023.01.11/4_324.frame is outside the frame: (-11:109, 150:270)\n",
      "\n",
      " 35%|███▌      | 3535/10000 [00:07<00:10, 589.75it/s]\u001b[A2023-12-17 07:48:14 localhost.localdomain train[18496] WARNING sample 2023.04.18/0_547.frame is outside the frame: (-8:112, 166:286)\n",
      "\n",
      " 36%|███▌      | 3595/10000 [00:07<00:10, 583.71it/s]\u001b[A2023-12-17 07:48:14 localhost.localdomain train[18496] WARNING sample 2023.08.08 71-23-07_1/1_576.frame is outside the frame: (-28:92, 118:238)\n",
      "\n",
      " 37%|███▋      | 3657/10000 [00:07<00:10, 590.45it/s]\u001b[A\n",
      " 37%|███▋      | 3717/10000 [00:07<00:11, 570.27it/s]\u001b[A2023-12-17 07:48:14 localhost.localdomain train[18496] WARNING sample 2023.04.10 брак/5_196.frame is outside the frame: (493:613, 163:283)\n",
      "\n",
      " 38%|███▊      | 3775/10000 [00:07<00:10, 567.95it/s]\u001b[A\n",
      " 38%|███▊      | 3836/10000 [00:07<00:10, 578.36it/s]\u001b[A\n",
      " 39%|███▉      | 3894/10000 [00:07<00:10, 563.31it/s]\u001b[A\n",
      " 40%|███▉      | 3962/10000 [00:07<00:10, 595.67it/s]\u001b[A\n",
      " 40%|████      | 4025/10000 [00:07<00:09, 605.34it/s]\u001b[A2023-12-17 07:48:14 localhost.localdomain train[18496] WARNING sample 2023.08.08 71-23-07_1/3_208.frame is outside the frame: (494:614, 376:496)\n",
      "\n",
      " 41%|████      | 4086/10000 [00:07<00:09, 605.02it/s]\u001b[A\n",
      " 42%|████▏     | 4150/10000 [00:08<00:09, 613.87it/s]\u001b[A2023-12-17 07:48:15 localhost.localdomain train[18496] WARNING sample 2023.10.25/3_112.frame is outside the frame: (-4:116, 459:579)\n",
      "\n"
     ]
    },
    {
     "name": "stderr",
     "output_type": "stream",
     "text": [
      " 42%|████▏     | 4212/10000 [00:08<00:09, 600.59it/s]\u001b[A\n",
      " 43%|████▎     | 4279/10000 [00:08<00:09, 618.47it/s]\u001b[A\n",
      " 43%|████▎     | 4348/10000 [00:08<00:08, 638.92it/s]\u001b[A\n",
      " 44%|████▍     | 4415/10000 [00:08<00:08, 644.77it/s]\u001b[A\n",
      " 45%|████▍     | 4483/10000 [00:08<00:08, 653.08it/s]\u001b[A\n",
      " 46%|████▌     | 4553/10000 [00:08<00:08, 665.49it/s]\u001b[A\n",
      " 46%|████▌     | 4620/10000 [00:08<00:08, 663.90it/s]\u001b[A\n",
      " 47%|████▋     | 4689/10000 [00:08<00:07, 669.86it/s]\u001b[A\n",
      " 48%|████▊     | 4757/10000 [00:08<00:07, 668.38it/s]\u001b[A2023-12-17 07:48:16 localhost.localdomain train[18496] WARNING sample 2021.08.30/1_079.frame is outside the frame: (9:129, -4:116)\n",
      "\n",
      " 48%|████▊     | 4824/10000 [00:09<00:08, 643.94it/s]\u001b[A\n",
      " 49%|████▉     | 4889/10000 [00:09<00:08, 630.66it/s]\u001b[A\n",
      " 50%|████▉     | 4953/10000 [00:09<00:08, 622.12it/s]\u001b[A\n",
      " 50%|█████     | 5016/10000 [00:09<00:08, 607.33it/s]\u001b[A\n",
      " 51%|█████     | 5080/10000 [00:09<00:08, 614.85it/s]\u001b[A2023-12-17 07:48:16 localhost.localdomain train[18496] WARNING sample 2023.04.18/5_152.frame is outside the frame: (-2:118, 582:702)\n",
      "\n",
      " 51%|█████▏    | 5142/10000 [00:09<00:07, 608.40it/s]\u001b[A2023-12-17 07:48:16 localhost.localdomain train[18496] WARNING sample 2023.07.21/1_523.frame is outside the frame: (406:526, 858:978)\n",
      "\n",
      " 52%|█████▏    | 5208/10000 [00:09<00:07, 622.60it/s]\u001b[A\n",
      " 53%|█████▎    | 5278/10000 [00:09<00:07, 644.08it/s]\u001b[A\n",
      " 53%|█████▎    | 5343/10000 [00:09<00:07, 635.31it/s]\u001b[A2023-12-17 07:48:17 localhost.localdomain train[18496] WARNING sample 2023.09.05 78-23-04_1/2_279.frame is outside the frame: (494:614, 752:872)\n",
      "2023-12-17 07:48:17 localhost.localdomain train[18496] WARNING sample 2023.04.18/4_174.frame is outside the frame: (281:401, -5:115)\n",
      "\n",
      " 54%|█████▍    | 5408/10000 [00:10<00:07, 638.19it/s]\u001b[A2023-12-17 07:48:17 localhost.localdomain train[18496] WARNING sample 2023.08.08 71-23-07_1/3_106.frame is outside the frame: (-8:112, 43:163)\n",
      "\n",
      " 55%|█████▍    | 5473/10000 [00:10<00:07, 641.29it/s]\u001b[A2023-12-17 07:48:17 localhost.localdomain train[18496] WARNING sample 2023.07.17 60-23-07_1/2_550.frame is outside the frame: (279:399, 867:987)\n",
      "\n",
      " 55%|█████▌    | 5538/10000 [00:10<00:07, 635.81it/s]\u001b[A2023-12-17 07:48:17 localhost.localdomain train[18496] WARNING sample 2023.08.08 71-23-07_1/0/4_217.frame is outside the frame: (-28:92, 650:770)\n",
      "\n",
      " 56%|█████▌    | 5605/10000 [00:10<00:06, 644.67it/s]\u001b[A\n",
      " 57%|█████▋    | 5670/10000 [00:10<00:06, 636.10it/s]\u001b[A\n",
      " 57%|█████▋    | 5743/10000 [00:10<00:06, 663.04it/s]\u001b[A\n",
      " 58%|█████▊    | 5810/10000 [00:10<00:06, 658.81it/s]\u001b[A2023-12-17 07:48:17 localhost.localdomain train[18496] WARNING sample 2023.04.18/0/2_523.frame is outside the frame: (160:280, -12:108)\n",
      "\n",
      " 59%|█████▉    | 5876/10000 [00:10<00:06, 645.68it/s]\u001b[A2023-12-17 07:48:17 localhost.localdomain train[18496] WARNING sample 2023.07.21/0_898.frame is outside the frame: (509:629, 622:742)\n",
      "\n",
      " 59%|█████▉    | 5941/10000 [00:10<00:06, 646.54it/s]\u001b[A\n",
      " 60%|██████    | 6008/10000 [00:10<00:06, 652.46it/s]\u001b[A\n",
      " 61%|██████    | 6077/10000 [00:11<00:05, 659.22it/s]\u001b[A\n",
      " 62%|██████▏   | 6150/10000 [00:11<00:05, 674.02it/s]\u001b[A\n",
      " 62%|██████▏   | 6218/10000 [00:11<00:05, 654.09it/s]\u001b[A\n",
      " 63%|██████▎   | 6284/10000 [00:11<00:06, 590.31it/s]\u001b[A2023-12-17 07:48:18 localhost.localdomain train[18496] WARNING sample 2020.10.21/2_442.frame is outside the frame: (-8:112, 375:495)\n",
      "2023-12-17 07:48:18 localhost.localdomain train[18496] WARNING sample 2023.07.17 60-23-07_1/0/3_383.frame is outside the frame: (77:197, -1:119)\n",
      "\n",
      " 64%|██████▎   | 6358/10000 [00:11<00:05, 630.12it/s]\u001b[A2023-12-17 07:48:18 localhost.localdomain train[18496] WARNING sample 2023.09.05 78-23-04_1/0_125.frame is outside the frame: (-1:119, 518:638)\n",
      "2023-12-17 07:48:18 localhost.localdomain train[18496] WARNING sample 2020.10.17/Труба 3/3_503.frame is outside the frame: (494:614, 648:768)\n",
      "\n",
      " 64%|██████▍   | 6423/10000 [00:11<00:05, 628.18it/s]\u001b[A\n",
      " 65%|██████▍   | 6492/10000 [00:11<00:05, 645.58it/s]\u001b[A2023-12-17 07:48:18 localhost.localdomain train[18496] WARNING sample 2023.05.16/5_411.frame is outside the frame: (481:601, 257:377)\n",
      "\n",
      " 66%|██████▌   | 6564/10000 [00:11<00:05, 665.84it/s]\u001b[A\n",
      " 66%|██████▋   | 6634/10000 [00:11<00:05, 673.08it/s]\u001b[A\n",
      " 67%|██████▋   | 6703/10000 [00:12<00:04, 675.01it/s]\u001b[A\n",
      " 68%|██████▊   | 6780/10000 [00:12<00:04, 701.75it/s]\u001b[A\n",
      " 69%|██████▊   | 6855/10000 [00:12<00:04, 714.99it/s]\u001b[A\n",
      " 69%|██████▉   | 6927/10000 [00:12<00:04, 709.23it/s]\u001b[A2023-12-17 07:48:19 localhost.localdomain train[18496] WARNING sample 2023.04.11 брак/0_754.frame is outside the frame: (483:603, 411:531)\n",
      "\n",
      " 70%|███████   | 7003/10000 [00:12<00:04, 722.83it/s]\u001b[A2023-12-17 07:48:19 localhost.localdomain train[18496] WARNING sample 2023.08.08 71-23-07_1/4_886.frame is outside the frame: (-18:102, 577:697)\n",
      "\n",
      " 71%|███████   | 7076/10000 [00:12<00:04, 685.69it/s]\u001b[A\n",
      " 71%|███████▏  | 7148/10000 [00:12<00:04, 692.19it/s]\u001b[A\n",
      " 72%|███████▏  | 7220/10000 [00:12<00:03, 697.77it/s]\u001b[A2023-12-17 07:48:19 localhost.localdomain train[18496] WARNING sample 2023.03.16 Брак/2_161.frame is outside the frame: (500:620, 554:674)\n",
      "\n",
      " 73%|███████▎  | 7293/10000 [00:12<00:03, 705.24it/s]\u001b[A\n",
      " 74%|███████▎  | 7366/10000 [00:12<00:03, 710.34it/s]\u001b[A2023-12-17 07:48:20 localhost.localdomain train[18496] WARNING sample 2023.08.08 71-23-07_1/4_498.frame is outside the frame: (228:348, -16:104)\n",
      "2023-12-17 07:48:20 localhost.localdomain train[18496] WARNING sample 2023.08.10 74-23-03_1/4_737.frame is outside the frame: (517:637, 241:361)\n",
      "\n",
      " 74%|███████▍  | 7438/10000 [00:13<00:03, 702.08it/s]\u001b[A\n",
      " 75%|███████▌  | 7511/10000 [00:13<00:03, 709.68it/s]\u001b[A\n",
      " 76%|███████▌  | 7584/10000 [00:13<00:03, 715.15it/s]\u001b[A2023-12-17 07:48:20 localhost.localdomain train[18496] WARNING sample 2023.07.21/0_101.frame is outside the frame: (273:393, -45:75)\n",
      "\n",
      " 77%|███████▋  | 7656/10000 [00:13<00:03, 709.79it/s]\u001b[A\n",
      " 77%|███████▋  | 7730/10000 [00:13<00:03, 717.36it/s]\u001b[A\n",
      " 78%|███████▊  | 7810/10000 [00:13<00:02, 740.41it/s]\u001b[A2023-12-17 07:48:20 localhost.localdomain train[18496] WARNING sample 2023.04.11 брак/4_789.frame is outside the frame: (489:609, 576:696)\n",
      "\n",
      " 79%|███████▉  | 7885/10000 [00:13<00:02, 738.41it/s]\u001b[A\n",
      " 80%|███████▉  | 7959/10000 [00:13<00:02, 725.15it/s]\u001b[A2023-12-17 07:48:20 localhost.localdomain train[18496] WARNING sample 2023.07.17 60-23-07_1/0_767.frame is outside the frame: (-29:91, 272:392)\n",
      "2023-12-17 07:48:20 localhost.localdomain train[18496] WARNING sample 2023.06.16 09-22-15 57-23-06_1/0_101.frame is outside the frame: (503:623, 109:229)\n",
      "\n",
      " 80%|████████  | 8032/10000 [00:13<00:02, 720.58it/s]\u001b[A\n",
      " 81%|████████  | 8105/10000 [00:13<00:02, 715.22it/s]\u001b[A\n",
      " 82%|████████▏ | 8180/10000 [00:14<00:02, 724.98it/s]\u001b[A\n",
      " 83%|████████▎ | 8258/10000 [00:14<00:02, 738.76it/s]\u001b[A\n",
      " 83%|████████▎ | 8332/10000 [00:14<00:02, 736.45it/s]\u001b[A2023-12-17 07:48:21 localhost.localdomain train[18496] WARNING sample 2023.09.05 81-23-06_1/1_118.frame is outside the frame: (-18:102, 865:985)\n",
      "\n",
      " 84%|████████▍ | 8407/10000 [00:14<00:02, 736.77it/s]\u001b[A2023-12-17 07:48:21 localhost.localdomain train[18496] WARNING sample 2021.08.30/1_080.frame is outside the frame: (197:317, -2:118)\n",
      "\n",
      " 85%|████████▍ | 8481/10000 [00:14<00:02, 688.12it/s]\u001b[A2023-12-17 07:48:21 localhost.localdomain train[18496] WARNING sample 2023.06.27 08-39-37 58-23-04_1/4_147.frame is outside the frame: (-41:79, 287:407)\n",
      "\n",
      " 86%|████████▌ | 8551/10000 [00:14<00:02, 679.29it/s]\u001b[A\n",
      " 86%|████████▌ | 8620/10000 [00:14<00:02, 658.28it/s]\u001b[A2023-12-17 07:48:21 localhost.localdomain train[18496] WARNING sample 2023.04.11 брак/4_681.frame is outside the frame: (-52:68, 262:382)\n",
      "\n",
      " 87%|████████▋ | 8694/10000 [00:14<00:01, 680.61it/s]\u001b[A2023-12-17 07:48:21 localhost.localdomain train[18496] WARNING sample 2023.07.21/0_287.frame is outside the frame: (94:214, -28:92)\n",
      "\n",
      " 88%|████████▊ | 8766/10000 [00:14<00:01, 690.26it/s]\u001b[A\n",
      " 88%|████████▊ | 8837/10000 [00:15<00:01, 693.07it/s]\u001b[A\n",
      " 89%|████████▉ | 8911/10000 [00:15<00:01, 705.68it/s]\u001b[A\n",
      " 90%|████████▉ | 8985/10000 [00:15<00:01, 715.57it/s]\u001b[A\n",
      " 91%|█████████ | 9058/10000 [00:15<00:01, 718.96it/s]\u001b[A\n",
      " 91%|█████████▏| 9131/10000 [00:15<00:01, 695.24it/s]\u001b[A2023-12-17 07:48:22 localhost.localdomain train[18496] WARNING sample 2023.08.08 71-23-07_1/5_558.frame is outside the frame: (497:617, 505:625)\n"
     ]
    },
    {
     "name": "stderr",
     "output_type": "stream",
     "text": [
      "\n",
      " 92%|█████████▏| 9201/10000 [00:15<00:01, 675.55it/s]\u001b[A\n",
      " 93%|█████████▎| 9274/10000 [00:15<00:01, 689.90it/s]\u001b[A\n",
      " 94%|█████████▎| 9358/10000 [00:15<00:00, 731.15it/s]\u001b[A\n",
      " 94%|█████████▍| 9433/10000 [00:15<00:00, 736.47it/s]\u001b[A2023-12-17 07:48:22 localhost.localdomain train[18496] WARNING sample 2023.09.05 78-23-04_1/5_805.frame is outside the frame: (-3:117, 582:702)\n",
      "2023-12-17 07:48:22 localhost.localdomain train[18496] WARNING sample 2023.04.11 брак/4_586.frame is outside the frame: (493:613, 614:734)\n",
      "\n",
      " 95%|█████████▌| 9507/10000 [00:15<00:00, 685.47it/s]\u001b[A\n",
      " 96%|█████████▌| 9580/10000 [00:16<00:00, 697.43it/s]\u001b[A\n",
      " 97%|█████████▋| 9661/10000 [00:16<00:00, 728.16it/s]\u001b[A2023-12-17 07:48:23 localhost.localdomain train[18496] WARNING sample 2022.07.21/1/0_523.frame is outside the frame: (-4:116, 637:757)\n",
      "\n",
      " 97%|█████████▋| 9738/10000 [00:16<00:00, 738.36it/s]\u001b[A\n",
      " 98%|█████████▊| 9813/10000 [00:16<00:00, 741.25it/s]\u001b[A2023-12-17 07:48:23 localhost.localdomain train[18496] WARNING sample 2023.09.07 13-09-28 78-23-04_1/5_425.frame is outside the frame: (-4:116, 287:407)\n",
      "2023-12-17 07:48:23 localhost.localdomain train[18496] WARNING sample 2023.04.11 брак/4_788.frame is outside the frame: (504:624, 573:693)\n",
      "\n",
      " 99%|█████████▉| 9888/10000 [00:16<00:00, 731.52it/s]\u001b[A\n",
      "100%|█████████▉| 9964/10000 [00:16<00:00, 738.19it/s]\u001b[A2023-12-17 07:48:23 localhost.localdomain train[18496] WARNING sample 2023.07.21/0_101.frame is outside the frame: (461:581, -35:85)\n",
      "100%|██████████| 10000/10000 [00:16<00:00, 600.78it/s]\n",
      "2023-12-17 07:48:23 localhost.localdomain val[18496] WARNING requested 10000 samples from 9950 defects, using the smaller one\n",
      "\n",
      "  0%|          | 0/9950 [00:00<?, ?it/s]\u001b[A\n",
      "  0%|          | 45/9950 [00:00<00:22, 432.69it/s]\u001b[A2023-12-17 07:48:23 localhost.localdomain val[18496] WARNING sample 2023.06.27 08-39-37 58-23-04_1/1_749.frame is outside the frame: (497:617, 297:417)\n",
      "\n",
      "  1%|          | 90/9950 [00:00<00:22, 442.36it/s]\u001b[A\n",
      "  1%|▏         | 138/9950 [00:00<00:21, 458.75it/s]\u001b[A2023-12-17 07:48:24 localhost.localdomain val[18496] WARNING sample 2023.04.18/3_521.frame is outside the frame: (-2:118, 540:660)\n",
      "\n",
      "  2%|▏         | 184/9950 [00:00<00:21, 444.69it/s]\u001b[A\n",
      "  2%|▏         | 229/9950 [00:00<00:21, 442.04it/s]\u001b[A\n",
      "  3%|▎         | 274/9950 [00:00<00:22, 439.63it/s]\u001b[A\n",
      "  3%|▎         | 324/9950 [00:00<00:21, 456.22it/s]\u001b[A\n",
      "  4%|▍         | 377/9950 [00:00<00:20, 478.43it/s]\u001b[A\n",
      "  4%|▍         | 425/9950 [00:00<00:20, 472.22it/s]\u001b[A\n",
      "  5%|▍         | 480/9950 [00:01<00:19, 494.50it/s]\u001b[A\n",
      "  5%|▌         | 530/9950 [00:01<00:19, 492.93it/s]\u001b[A2023-12-17 07:48:24 localhost.localdomain val[18496] WARNING sample 2023.10.10 804-23-04_1/4_297.frame is outside the frame: (-4:116, 452:572)\n",
      "\n",
      "  6%|▌         | 584/9950 [00:01<00:18, 504.64it/s]\u001b[A\n",
      "  6%|▋         | 635/9950 [00:01<00:18, 499.14it/s]\u001b[A\n",
      "  7%|▋         | 685/9950 [00:01<00:19, 482.44it/s]\u001b[A2023-12-17 07:48:25 localhost.localdomain val[18496] WARNING sample 2022.11.25/5_474.frame is outside the frame: (-8:112, 285:405)\n",
      "\n",
      "  7%|▋         | 736/9950 [00:01<00:18, 486.72it/s]\u001b[A\n",
      "  8%|▊         | 785/9950 [00:01<00:19, 458.34it/s]\u001b[A\n",
      "  8%|▊         | 840/9950 [00:01<00:18, 481.74it/s]\u001b[A2023-12-17 07:48:25 localhost.localdomain val[18496] WARNING sample 2023.06.15/4_427.frame is outside the frame: (484:604, 718:838)\n",
      "2023-12-17 07:48:25 localhost.localdomain val[18496] WARNING sample 2023.06.27 08-39-37 58-23-04_1/1_749.frame is outside the frame: (482:602, 717:837)\n",
      "\n",
      "  9%|▉         | 896/9950 [00:01<00:18, 501.14it/s]\u001b[A2023-12-17 07:48:25 localhost.localdomain val[18496] WARNING sample 2022.10.24/0_229.frame is outside the frame: (495:615, 119:239)\n",
      "\n",
      " 10%|▉         | 950/9950 [00:01<00:17, 511.42it/s]\u001b[A\n",
      " 10%|█         | 1002/9950 [00:02<00:17, 500.50it/s]\u001b[A\n",
      " 11%|█         | 1058/9950 [00:02<00:17, 513.66it/s]\u001b[A\n",
      " 11%|█▏        | 1120/9950 [00:02<00:16, 540.91it/s]\u001b[A\n",
      " 12%|█▏        | 1175/9950 [00:02<00:16, 539.65it/s]\u001b[A\n",
      " 12%|█▏        | 1233/9950 [00:02<00:15, 549.59it/s]\u001b[A\n",
      " 13%|█▎        | 1293/9950 [00:02<00:15, 561.29it/s]\u001b[A\n",
      " 14%|█▎        | 1352/9950 [00:02<00:15, 568.49it/s]\u001b[A\n",
      " 14%|█▍        | 1410/9950 [00:02<00:14, 570.58it/s]\u001b[A\n",
      " 15%|█▍        | 1474/9950 [00:02<00:14, 589.81it/s]\u001b[A\n",
      " 15%|█▌        | 1534/9950 [00:03<00:14, 581.49it/s]\u001b[A2023-12-17 07:48:26 localhost.localdomain val[18496] WARNING sample 2023.09.05 81-23-06_1/4_231.frame is outside the frame: (-10:110, 331:451)\n",
      "\n",
      " 16%|█▌        | 1595/9950 [00:03<00:14, 588.51it/s]\u001b[A\n",
      " 17%|█▋        | 1657/9950 [00:03<00:13, 596.28it/s]\u001b[A\n",
      " 17%|█▋        | 1720/9950 [00:03<00:13, 605.50it/s]\u001b[A\n",
      " 18%|█▊        | 1781/9950 [00:03<00:14, 570.02it/s]\u001b[A\n",
      " 19%|█▊        | 1845/9950 [00:03<00:13, 588.38it/s]\u001b[A\n",
      " 19%|█▉        | 1913/9950 [00:03<00:13, 613.75it/s]\u001b[A\n",
      " 20%|█▉        | 1975/9950 [00:03<00:13, 603.99it/s]\u001b[A2023-12-17 07:48:27 localhost.localdomain val[18496] WARNING sample 2023.05.30 выступы/3_135.frame is outside the frame: (-3:117, 447:567)\n",
      "2023-12-17 07:48:27 localhost.localdomain val[18496] WARNING sample 2023.04.18/4_651.frame is outside the frame: (482:602, 495:615)\n",
      "\n",
      " 20%|██        | 2036/9950 [00:03<00:13, 598.69it/s]\u001b[A2023-12-17 07:48:27 localhost.localdomain val[18496] WARNING sample 2023.04.11 брак/4_781.frame is outside the frame: (513:633, 527:647)\n",
      "\n",
      " 21%|██        | 2097/9950 [00:03<00:13, 593.14it/s]\u001b[A2023-12-17 07:48:27 localhost.localdomain val[18496] WARNING sample 2023.10.10 804-23-04_1/5_615.frame is outside the frame: (481:601, 528:648)\n",
      "2023-12-17 07:48:27 localhost.localdomain val[18496] WARNING sample 2022.07.21/0/4_361.frame is outside the frame: (-24:96, 410:530)\n",
      "\n",
      " 22%|██▏       | 2166/9950 [00:04<00:12, 619.02it/s]\u001b[A2023-12-17 07:48:27 localhost.localdomain val[18496] WARNING sample 2023.08.08 72-23-08_1/3_346.frame is outside the frame: (-12:108, 491:611)\n",
      "\n",
      " 22%|██▏       | 2229/9950 [00:04<00:12, 605.60it/s]\u001b[A\n",
      " 23%|██▎       | 2296/9950 [00:04<00:12, 622.00it/s]\u001b[A\n",
      " 24%|██▎       | 2360/9950 [00:04<00:12, 625.83it/s]\u001b[A\n",
      " 24%|██▍       | 2423/9950 [00:04<00:12, 613.42it/s]\u001b[A2023-12-17 07:48:28 localhost.localdomain val[18496] WARNING sample 2023.10.10 804-23-04_1/5_615.frame is outside the frame: (-1:119, 437:557)\n",
      "\n",
      " 25%|██▍       | 2485/9950 [00:04<00:12, 609.83it/s]\u001b[A\n",
      " 26%|██▌       | 2550/9950 [00:04<00:11, 618.53it/s]\u001b[A\n",
      " 26%|██▋       | 2617/9950 [00:04<00:11, 629.82it/s]\u001b[A\n",
      " 27%|██▋       | 2681/9950 [00:04<00:11, 619.47it/s]\u001b[A2023-12-17 07:48:28 localhost.localdomain val[18496] WARNING sample 2023.09.07 13-09-28 78-23-04_1/5_860.frame is outside the frame: (482:602, 495:615)\n",
      "\n",
      " 28%|██▊       | 2750/9950 [00:04<00:11, 639.99it/s]\u001b[A\n",
      " 28%|██▊       | 2821/9950 [00:05<00:10, 659.68it/s]\u001b[A2023-12-17 07:48:28 localhost.localdomain val[18496] WARNING sample 2023.09.05 81-23-06_1/4_231.frame is outside the frame: (277:397, -35:85)\n",
      "\n",
      " 29%|██▉       | 2888/9950 [00:05<00:11, 636.97it/s]\u001b[A\n",
      " 30%|██▉       | 2963/9950 [00:05<00:10, 669.01it/s]\u001b[A\n",
      " 30%|███       | 3033/9950 [00:05<00:10, 677.84it/s]\u001b[A2023-12-17 07:48:29 localhost.localdomain val[18496] WARNING sample 2023.08.10 74-23-03_1/3_779.frame is outside the frame: (-3:117, 789:909)\n",
      "\n",
      " 31%|███       | 3102/9950 [00:05<00:10, 674.66it/s]\u001b[A\n",
      " 32%|███▏      | 3170/9950 [00:05<00:10, 671.05it/s]\u001b[A\n",
      " 33%|███▎      | 3238/9950 [00:05<00:10, 668.94it/s]\u001b[A\n",
      " 33%|███▎      | 3306/9950 [00:05<00:09, 671.32it/s]\u001b[A\n",
      " 34%|███▍      | 3374/9950 [00:05<00:09, 672.26it/s]\u001b[A\n",
      " 35%|███▍      | 3447/9950 [00:06<00:09, 686.84it/s]\u001b[A2023-12-17 07:48:29 localhost.localdomain val[18496] WARNING sample 2023.06.01/4_325.frame is outside the frame: (488:608, 342:462)\n",
      "\n",
      " 35%|███▌      | 3517/9950 [00:06<00:09, 686.47it/s]\u001b[A\n",
      " 36%|███▌      | 3586/9950 [00:06<00:09, 671.98it/s]\u001b[A\n",
      " 37%|███▋      | 3660/9950 [00:06<00:09, 691.39it/s]\u001b[A2023-12-17 07:48:30 localhost.localdomain val[18496] WARNING sample 2022.10.24/0_232.frame is outside the frame: (76:196, -44:76)\n",
      "\n",
      " 37%|███▋      | 3730/9950 [00:06<00:09, 683.63it/s]\u001b[A2023-12-17 07:48:30 localhost.localdomain val[18496] WARNING sample 2023.04.18/4_100.frame is outside the frame: (486:606, 504:624)\n",
      "\n",
      " 38%|███▊      | 3799/9950 [00:06<00:09, 669.35it/s]\u001b[A\n",
      " 39%|███▉      | 3870/9950 [00:06<00:08, 679.80it/s]\u001b[A\n"
     ]
    },
    {
     "name": "stderr",
     "output_type": "stream",
     "text": [
      " 40%|███▉      | 3939/9950 [00:06<00:08, 673.87it/s]\u001b[A\n",
      " 40%|████      | 4007/9950 [00:06<00:08, 674.17it/s]\u001b[A2023-12-17 07:48:30 localhost.localdomain val[18496] WARNING sample 2022.07.21/0/4_361.frame is outside the frame: (-39:81, 89:209)\n",
      "2023-12-17 07:48:30 localhost.localdomain val[18496] WARNING sample 2023.08.07/2_776.frame is outside the frame: (-12:108, 719:839)\n",
      "\n",
      " 41%|████      | 4075/9950 [00:06<00:08, 667.34it/s]\u001b[A\n",
      " 42%|████▏     | 4147/9950 [00:07<00:08, 682.76it/s]\u001b[A2023-12-17 07:48:30 localhost.localdomain val[18496] WARNING sample 2023.04.18/0/2_891.frame is outside the frame: (14:134, -8:112)\n",
      "\n",
      " 42%|████▏     | 4221/9950 [00:07<00:08, 696.89it/s]\u001b[A\n",
      " 43%|████▎     | 4291/9950 [00:07<00:08, 680.15it/s]\u001b[A\n",
      " 44%|████▍     | 4366/9950 [00:07<00:07, 700.31it/s]\u001b[A\n",
      " 45%|████▍     | 4438/9950 [00:07<00:07, 705.26it/s]\u001b[A2023-12-17 07:48:31 localhost.localdomain val[18496] WARNING sample 2023.06.27 08-39-37 58-23-04_1/1_749.frame is outside the frame: (489:609, 512:632)\n",
      "2023-12-17 07:48:31 localhost.localdomain val[18496] WARNING sample 2023.10.25/5_428.frame is outside the frame: (-6:114, 502:622)\n",
      "\n",
      " 45%|████▌     | 4509/9950 [00:07<00:07, 697.58it/s]\u001b[A2023-12-17 07:48:31 localhost.localdomain val[18496] WARNING sample 2023.08.08 71-23-07_1/4_735.frame is outside the frame: (454:574, -18:102)\n",
      "\n",
      " 46%|████▌     | 4581/9950 [00:07<00:07, 702.60it/s]\u001b[A\n",
      " 47%|████▋     | 4652/9950 [00:07<00:07, 682.98it/s]\u001b[A\n",
      " 48%|████▊     | 4727/9950 [00:07<00:07, 701.49it/s]\u001b[A2023-12-17 07:48:31 localhost.localdomain val[18496] WARNING sample 2023.08.08 71-23-07_1/4_735.frame is outside the frame: (234:354, -11:109)\n",
      "\n",
      " 48%|████▊     | 4804/9950 [00:07<00:07, 720.89it/s]\u001b[A\n",
      " 49%|████▉     | 4880/9950 [00:08<00:06, 731.12it/s]\u001b[A\n",
      " 50%|████▉     | 4954/9950 [00:08<00:06, 726.04it/s]\u001b[A2023-12-17 07:48:31 localhost.localdomain val[18496] WARNING sample 2022.10.24/2_355.frame is outside the frame: (484:604, 325:445)\n",
      "\n",
      " 51%|█████     | 5027/9950 [00:08<00:06, 722.35it/s]\u001b[A\n",
      " 51%|█████▏    | 5101/9950 [00:08<00:06, 727.22it/s]\u001b[A\n",
      " 52%|█████▏    | 5175/9950 [00:08<00:06, 729.34it/s]\u001b[A2023-12-17 07:48:32 localhost.localdomain val[18496] WARNING sample 2023.09.05 81-23-06_1/3_231.frame is outside the frame: (482:602, 760:880)\n",
      "\n",
      " 53%|█████▎    | 5248/9950 [00:08<00:06, 721.33it/s]\u001b[A\n",
      " 54%|█████▎    | 5324/9950 [00:08<00:06, 731.01it/s]\u001b[A\n",
      " 54%|█████▍    | 5398/9950 [00:08<00:06, 725.58it/s]\u001b[A2023-12-17 07:48:32 localhost.localdomain val[18496] WARNING sample 2022.10.08/4_201.frame is outside the frame: (483:603, 176:296)\n",
      "\n",
      " 55%|█████▍    | 5471/9950 [00:08<00:06, 725.54it/s]\u001b[A\n",
      " 56%|█████▌    | 5554/9950 [00:08<00:05, 753.53it/s]\u001b[A2023-12-17 07:48:32 localhost.localdomain val[18496] WARNING sample 2023.10.19/5_203.frame is outside the frame: (-13:107, 468:588)\n",
      "\n",
      " 57%|█████▋    | 5633/9950 [00:09<00:05, 764.06it/s]\u001b[A\n",
      " 57%|█████▋    | 5710/9950 [00:09<00:05, 763.92it/s]\u001b[A\n",
      " 58%|█████▊    | 5787/9950 [00:09<00:05, 751.57it/s]\u001b[A2023-12-17 07:48:33 localhost.localdomain val[18496] WARNING sample 2023.09.05 81-23-06_1/t4_dist_3-_frame_270-test.frame is outside the frame: (31:151, 847:967)\n",
      "\n",
      " 59%|█████▉    | 5875/9950 [00:09<00:05, 788.15it/s]\u001b[A2023-12-17 07:48:33 localhost.localdomain val[18496] WARNING sample 2023.09.07 13-09-28 78-23-04_1/2_625.frame is outside the frame: (504:624, 14:134)\n",
      "\n",
      " 60%|█████▉    | 5954/9950 [00:09<00:05, 767.57it/s]\u001b[A2023-12-17 07:48:33 localhost.localdomain val[18496] WARNING sample 2023.09.07 13-09-28 78-23-04_1/5_496.frame is outside the frame: (235:355, 844:964)\n",
      "\n",
      " 61%|██████    | 6031/9950 [00:09<00:05, 755.01it/s]\u001b[A\n",
      " 61%|██████▏   | 6107/9950 [00:09<00:05, 721.34it/s]\u001b[A\n",
      " 62%|██████▏   | 6181/9950 [00:09<00:05, 724.77it/s]\u001b[A\n",
      " 63%|██████▎   | 6254/9950 [00:09<00:05, 718.77it/s]\u001b[A2023-12-17 07:48:33 localhost.localdomain val[18496] WARNING sample 2023.04.18/1_864.frame is outside the frame: (-11:109, 665:785)\n",
      "\n",
      " 64%|██████▎   | 6332/9950 [00:10<00:04, 733.06it/s]\u001b[A2023-12-17 07:48:33 localhost.localdomain val[18496] WARNING sample 2022.12.27/t6_dist_1_frame_2.frame is outside the frame: (88:208, -21:99)\n",
      "\n",
      " 64%|██████▍   | 6406/9950 [00:10<00:04, 724.51it/s]\u001b[A\n",
      " 65%|██████▌   | 6483/9950 [00:10<00:04, 736.75it/s]\u001b[A\n",
      " 66%|██████▌   | 6557/9950 [00:10<00:04, 734.82it/s]\u001b[A\n",
      " 67%|██████▋   | 6636/9950 [00:10<00:04, 749.65it/s]\u001b[A\n",
      " 68%|██████▊   | 6720/9950 [00:10<00:04, 771.90it/s]\u001b[A\n",
      " 68%|██████▊   | 6798/9950 [00:10<00:04, 773.47it/s]\u001b[A\n",
      " 69%|██████▉   | 6877/9950 [00:10<00:03, 777.14it/s]\u001b[A2023-12-17 07:48:34 localhost.localdomain val[18496] WARNING sample 2022.10.24/2_355.frame is outside the frame: (493:613, 110:230)\n",
      "2023-12-17 07:48:34 localhost.localdomain val[18496] WARNING sample 2023.09.05 81-23-06_1/4_223.frame is outside the frame: (-46:74, 689:809)\n",
      "2023-12-17 07:48:34 localhost.localdomain val[18496] WARNING sample 2023.07.18 61-23-08_1/1_184.frame is outside the frame: (42:162, -25:95)\n",
      "\n",
      " 70%|██████▉   | 6955/9950 [00:10<00:03, 757.62it/s]\u001b[A\n",
      " 71%|███████   | 7033/9950 [00:10<00:03, 762.82it/s]\u001b[A\n",
      " 71%|███████▏  | 7110/9950 [00:11<00:03, 745.72it/s]\u001b[A\n",
      " 72%|███████▏  | 7188/9950 [00:11<00:03, 753.33it/s]\u001b[A\n",
      " 73%|███████▎  | 7266/9950 [00:11<00:03, 758.50it/s]\u001b[A\n",
      " 74%|███████▍  | 7342/9950 [00:11<00:03, 746.08it/s]\u001b[A\n",
      " 75%|███████▍  | 7427/9950 [00:11<00:03, 774.16it/s]\u001b[A\n",
      " 75%|███████▌  | 7506/9950 [00:11<00:03, 777.02it/s]\u001b[A2023-12-17 07:48:35 localhost.localdomain val[18496] WARNING sample 2023.09.07 13-09-28 78-23-04_1/t5_dist_2_frame_030-test.frame is outside the frame: (425:545, 843:963)\n",
      "\n",
      " 76%|███████▌  | 7584/9950 [00:11<00:03, 772.09it/s]\u001b[A2023-12-17 07:48:35 localhost.localdomain val[18496] WARNING sample 2023.04.18/3_512.frame is outside the frame: (489:609, 592:712)\n",
      "\n",
      " 77%|███████▋  | 7662/9950 [00:11<00:03, 731.52it/s]\u001b[A\n",
      " 78%|███████▊  | 7740/9950 [00:11<00:02, 744.46it/s]\u001b[A2023-12-17 07:48:35 localhost.localdomain val[18496] WARNING sample 2023.07.17 60-23-07_1/3_451.frame is outside the frame: (302:422, 842:962)\n",
      "\n",
      " 79%|███████▊  | 7819/9950 [00:11<00:02, 754.88it/s]\u001b[A\n",
      " 79%|███████▉  | 7901/9950 [00:12<00:02, 772.87it/s]\u001b[A\n",
      " 80%|████████  | 7983/9950 [00:12<00:02, 786.38it/s]\u001b[A\n",
      " 81%|████████  | 8065/9950 [00:12<00:02, 795.17it/s]\u001b[A2023-12-17 07:48:36 localhost.localdomain val[18496] WARNING sample 2023.10.25/5_115.frame is outside the frame: (-9:111, 189:309)\n",
      "\n",
      " 82%|████████▏ | 8145/9950 [00:12<00:02, 775.73it/s]\u001b[A\n",
      " 83%|████████▎ | 8225/9950 [00:12<00:02, 781.48it/s]\u001b[A2023-12-17 07:48:36 localhost.localdomain val[18496] WARNING sample 2023.09.05 81-23-06_1/t4_dist_3-_frame_300-test.frame is outside the frame: (-37:83, 857:977)\n",
      "2023-12-17 07:48:36 localhost.localdomain val[18496] WARNING sample 2023.09.07 13-09-28 78-23-04_1/5_496.frame is outside the frame: (443:563, 853:973)\n",
      "\n",
      " 83%|████████▎ | 8304/9950 [00:12<00:02, 780.22it/s]\u001b[A2023-12-17 07:48:36 localhost.localdomain val[18496] WARNING sample 2023.04.18/0/2_891.frame is outside the frame: (171:291, -12:108)\n",
      "\n",
      " 84%|████████▍ | 8383/9950 [00:12<00:02, 762.33it/s]\u001b[A2023-12-17 07:48:36 localhost.localdomain val[18496] WARNING sample 2023.04.18/5_210.frame is outside the frame: (-3:117, 493:613)\n",
      "\n",
      " 85%|████████▌ | 8460/9950 [00:12<00:01, 753.65it/s]\u001b[A2023-12-17 07:48:36 localhost.localdomain val[18496] WARNING sample 2023.10.10 804-23-04_1/4_226.frame is outside the frame: (-8:112, 542:662)\n",
      "\n",
      " 86%|████████▌ | 8536/9950 [00:12<00:01, 751.00it/s]\u001b[A2023-12-17 07:48:36 localhost.localdomain val[18496] WARNING sample 2022.12.27/t6_dist_1_frame_2.frame is outside the frame: (525:645, 586:706)\n",
      "\n",
      " 87%|████████▋ | 8613/9950 [00:13<00:01, 756.18it/s]\u001b[A\n",
      " 87%|████████▋ | 8690/9950 [00:13<00:01, 759.10it/s]\u001b[A2023-12-17 07:48:36 localhost.localdomain val[18496] WARNING sample 2023.04.18/0/2_891.frame is outside the frame: (321:441, -20:100)\n",
      "\n",
      " 88%|████████▊ | 8767/9950 [00:13<00:01, 760.14it/s]\u001b[A\n",
      " 89%|████████▉ | 8844/9950 [00:13<00:01, 756.05it/s]\u001b[A2023-12-17 07:48:37 localhost.localdomain val[18496] WARNING sample 2022.07.21/0/4_361.frame is outside the frame: (-43:77, 250:370)\n",
      "\n",
      " 90%|████████▉ | 8920/9950 [00:13<00:01, 736.39it/s]\u001b[A2023-12-17 07:48:37 localhost.localdomain val[18496] WARNING sample 2023.06.27 08-39-37 58-23-04_1/1_749.frame is outside the frame: (-4:116, 361:481)\n"
     ]
    },
    {
     "name": "stderr",
     "output_type": "stream",
     "text": [
      "\n",
      " 90%|█████████ | 8994/9950 [00:13<00:01, 730.95it/s]\u001b[A\n",
      " 91%|█████████ | 9068/9950 [00:13<00:01, 729.12it/s]\u001b[A\n",
      " 92%|█████████▏| 9144/9950 [00:13<00:01, 736.35it/s]\u001b[A\n",
      " 93%|█████████▎| 9225/9950 [00:13<00:00, 756.28it/s]\u001b[A\n",
      " 94%|█████████▎| 9304/9950 [00:13<00:00, 764.65it/s]\u001b[A\n",
      " 94%|█████████▍| 9382/9950 [00:14<00:00, 767.23it/s]\u001b[A\n",
      " 95%|█████████▌| 9465/9950 [00:14<00:00, 783.24it/s]\u001b[A2023-12-17 07:48:37 localhost.localdomain val[18496] WARNING sample 2023.07.12/4_605.frame is outside the frame: (-38:82, 136:256)\n",
      "\n",
      " 96%|█████████▌| 9544/9950 [00:14<00:00, 784.80it/s]\u001b[A2023-12-17 07:48:38 localhost.localdomain val[18496] WARNING sample 2023.10.10 804-23-04_1/5_615.frame is outside the frame: (502:622, 728:848)\n",
      "\n",
      " 97%|█████████▋| 9623/9950 [00:14<00:00, 775.53it/s]\u001b[A2023-12-17 07:48:38 localhost.localdomain val[18496] WARNING sample 2023.10.25/2_324.frame is outside the frame: (-1:119, 200:320)\n",
      "2023-12-17 07:48:38 localhost.localdomain val[18496] WARNING sample 2023.10.25/1_477.frame is outside the frame: (-1:119, 707:827)\n",
      "2023-12-17 07:48:38 localhost.localdomain val[18496] WARNING sample 2023.06.16 09-22-15 57-23-06_1/4_750.frame is outside the frame: (103:223, 867:987)\n",
      "\n",
      " 97%|█████████▋| 9701/9950 [00:14<00:00, 759.61it/s]\u001b[A\n",
      " 98%|█████████▊| 9778/9950 [00:14<00:00, 758.03it/s]\u001b[A\n",
      " 99%|█████████▉| 9854/9950 [00:14<00:00, 749.77it/s]\u001b[A\n",
      "100%|██████████| 9950/9950 [00:14<00:00, 672.80it/s]\u001b[A\n",
      "\n",
      "   | Name     | Type             | Params\n",
      "-----------------------------------------------\n",
      "0  | pool     | MaxPool2d        | 0     \n",
      "1  | conv_act | ReLU             | 0     \n",
      "2  | dropout  | Dropout2d        | 0     \n",
      "3  | conv_11  | Conv2d           | 160   \n",
      "4  | bn_11    | BatchNorm2d      | 32    \n",
      "5  | conv_12  | Conv2d           | 2.3 K \n",
      "6  | bn_12    | BatchNorm2d      | 32    \n",
      "7  | conv_21  | Conv2d           | 4.6 K \n",
      "8  | bn_21    | BatchNorm2d      | 64    \n",
      "9  | conv_22  | Conv2d           | 9.2 K \n",
      "10 | bn_22    | BatchNorm2d      | 64    \n",
      "11 | conv_3   | Conv2d           | 18.5 K\n",
      "12 | bn_3     | BatchNorm2d      | 128   \n",
      "13 | conv_4   | Conv2d           | 36.9 K\n",
      "14 | conv_5   | Conv2d           | 73.9 K\n",
      "15 | conv_6   | Conv2d           | 295 K \n",
      "16 | fc_1     | Linear           | 32.9 K\n",
      "17 | act_1    | ReLU             | 0     \n",
      "18 | fc_2     | Linear           | 4.1 K \n",
      "19 | act_2    | ReLU             | 0     \n",
      "20 | fc_3     | Linear           | 462   \n",
      "21 | loss     | CrossEntropyLoss | 0     \n",
      "-----------------------------------------------\n",
      "478 K     Trainable params\n",
      "0         Non-trainable params\n",
      "478 K     Total params\n",
      "1.914     Total estimated model params size (MB)\n"
     ]
    },
    {
     "data": {
      "application/vnd.jupyter.widget-view+json": {
       "model_id": "",
       "version_major": 2,
       "version_minor": 0
      },
      "text/plain": [
       "Validation sanity check: 0it [00:00, ?it/s]"
      ]
     },
     "metadata": {},
     "output_type": "display_data"
    },
    {
     "data": {
      "application/vnd.jupyter.widget-view+json": {
       "model_id": "ddbce091639347e4b03862637ccca2ca",
       "version_major": 2,
       "version_minor": 0
      },
      "text/plain": [
       "Training: 0it [00:00, ?it/s]"
      ]
     },
     "metadata": {},
     "output_type": "display_data"
    },
    {
     "data": {
      "application/vnd.jupyter.widget-view+json": {
       "model_id": "",
       "version_major": 2,
       "version_minor": 0
      },
      "text/plain": [
       "Validating: 0it [00:00, ?it/s]"
      ]
     },
     "metadata": {},
     "output_type": "display_data"
    },
    {
     "name": "stderr",
     "output_type": "stream",
     "text": [
      "Epoch 0, global step 155: val_f1 reached 0.86940 (best 0.86940), saving model to \"/home/traveller/SWProj/Challenges/AtomicHack/notebooks/checkpoints/unary-0.21a_epoch=00-val_f1=0.8694-val_loss=0.3432.ckpt\" as top 1\n"
     ]
    },
    {
     "data": {
      "application/vnd.jupyter.widget-view+json": {
       "model_id": "",
       "version_major": 2,
       "version_minor": 0
      },
      "text/plain": [
       "Validating: 0it [00:00, ?it/s]"
      ]
     },
     "metadata": {},
     "output_type": "display_data"
    },
    {
     "name": "stderr",
     "output_type": "stream",
     "text": [
      "Epoch 1, global step 311: val_f1 reached 0.87082 (best 0.87082), saving model to \"/home/traveller/SWProj/Challenges/AtomicHack/notebooks/checkpoints/unary-0.21a_epoch=01-val_f1=0.8708-val_loss=0.3363.ckpt\" as top 1\n"
     ]
    },
    {
     "data": {
      "application/vnd.jupyter.widget-view+json": {
       "model_id": "",
       "version_major": 2,
       "version_minor": 0
      },
      "text/plain": [
       "Validating: 0it [00:00, ?it/s]"
      ]
     },
     "metadata": {},
     "output_type": "display_data"
    },
    {
     "name": "stderr",
     "output_type": "stream",
     "text": [
      "Epoch 2, global step 467: val_f1 reached 0.87221 (best 0.87221), saving model to \"/home/traveller/SWProj/Challenges/AtomicHack/notebooks/checkpoints/unary-0.21a_epoch=02-val_f1=0.8722-val_loss=0.3441.ckpt\" as top 1\n"
     ]
    },
    {
     "data": {
      "application/vnd.jupyter.widget-view+json": {
       "model_id": "",
       "version_major": 2,
       "version_minor": 0
      },
      "text/plain": [
       "Validating: 0it [00:00, ?it/s]"
      ]
     },
     "metadata": {},
     "output_type": "display_data"
    },
    {
     "name": "stderr",
     "output_type": "stream",
     "text": [
      "Epoch 3, global step 623: val_f1 was not in top 1\n"
     ]
    },
    {
     "data": {
      "application/vnd.jupyter.widget-view+json": {
       "model_id": "",
       "version_major": 2,
       "version_minor": 0
      },
      "text/plain": [
       "Validating: 0it [00:00, ?it/s]"
      ]
     },
     "metadata": {},
     "output_type": "display_data"
    },
    {
     "name": "stderr",
     "output_type": "stream",
     "text": [
      "Epoch 4, global step 779: val_f1 was not in top 1\n"
     ]
    },
    {
     "data": {
      "application/vnd.jupyter.widget-view+json": {
       "model_id": "",
       "version_major": 2,
       "version_minor": 0
      },
      "text/plain": [
       "Validating: 0it [00:00, ?it/s]"
      ]
     },
     "metadata": {},
     "output_type": "display_data"
    },
    {
     "name": "stderr",
     "output_type": "stream",
     "text": [
      "Epoch 5, global step 935: val_f1 was not in top 1\n"
     ]
    },
    {
     "data": {
      "application/vnd.jupyter.widget-view+json": {
       "model_id": "",
       "version_major": 2,
       "version_minor": 0
      },
      "text/plain": [
       "Validating: 0it [00:00, ?it/s]"
      ]
     },
     "metadata": {},
     "output_type": "display_data"
    },
    {
     "name": "stderr",
     "output_type": "stream",
     "text": [
      "Epoch 6, global step 1091: val_f1 was not in top 1\n"
     ]
    },
    {
     "data": {
      "application/vnd.jupyter.widget-view+json": {
       "model_id": "",
       "version_major": 2,
       "version_minor": 0
      },
      "text/plain": [
       "Validating: 0it [00:00, ?it/s]"
      ]
     },
     "metadata": {},
     "output_type": "display_data"
    },
    {
     "name": "stderr",
     "output_type": "stream",
     "text": [
      "Epoch 7, global step 1247: val_f1 reached 0.87491 (best 0.87491), saving model to \"/home/traveller/SWProj/Challenges/AtomicHack/notebooks/checkpoints/unary-0.21a_epoch=07-val_f1=0.8749-val_loss=0.3541.ckpt\" as top 1\n"
     ]
    },
    {
     "data": {
      "application/vnd.jupyter.widget-view+json": {
       "model_id": "",
       "version_major": 2,
       "version_minor": 0
      },
      "text/plain": [
       "Validating: 0it [00:00, ?it/s]"
      ]
     },
     "metadata": {},
     "output_type": "display_data"
    },
    {
     "name": "stderr",
     "output_type": "stream",
     "text": [
      "Epoch 8, global step 1403: val_f1 reached 0.87887 (best 0.87887), saving model to \"/home/traveller/SWProj/Challenges/AtomicHack/notebooks/checkpoints/unary-0.21a_epoch=08-val_f1=0.8789-val_loss=0.3670.ckpt\" as top 1\n"
     ]
    },
    {
     "data": {
      "application/vnd.jupyter.widget-view+json": {
       "model_id": "",
       "version_major": 2,
       "version_minor": 0
      },
      "text/plain": [
       "Validating: 0it [00:00, ?it/s]"
      ]
     },
     "metadata": {},
     "output_type": "display_data"
    },
    {
     "name": "stderr",
     "output_type": "stream",
     "text": [
      "Epoch 9, global step 1559: val_f1 was not in top 1\n"
     ]
    },
    {
     "data": {
      "application/vnd.jupyter.widget-view+json": {
       "model_id": "",
       "version_major": 2,
       "version_minor": 0
      },
      "text/plain": [
       "Validating: 0it [00:00, ?it/s]"
      ]
     },
     "metadata": {},
     "output_type": "display_data"
    },
    {
     "name": "stderr",
     "output_type": "stream",
     "text": [
      "Epoch 10, global step 1715: val_f1 reached 0.88142 (best 0.88142), saving model to \"/home/traveller/SWProj/Challenges/AtomicHack/notebooks/checkpoints/unary-0.21a_epoch=10-val_f1=0.8814-val_loss=0.3598.ckpt\" as top 1\n"
     ]
    },
    {
     "data": {
      "application/vnd.jupyter.widget-view+json": {
       "model_id": "",
       "version_major": 2,
       "version_minor": 0
      },
      "text/plain": [
       "Validating: 0it [00:00, ?it/s]"
      ]
     },
     "metadata": {},
     "output_type": "display_data"
    },
    {
     "name": "stderr",
     "output_type": "stream",
     "text": [
      "Epoch 11, global step 1871: val_f1 was not in top 1\n"
     ]
    },
    {
     "data": {
      "application/vnd.jupyter.widget-view+json": {
       "model_id": "",
       "version_major": 2,
       "version_minor": 0
      },
      "text/plain": [
       "Validating: 0it [00:00, ?it/s]"
      ]
     },
     "metadata": {},
     "output_type": "display_data"
    },
    {
     "name": "stderr",
     "output_type": "stream",
     "text": [
      "Epoch 12, global step 2027: val_f1 was not in top 1\n"
     ]
    },
    {
     "data": {
      "application/vnd.jupyter.widget-view+json": {
       "model_id": "",
       "version_major": 2,
       "version_minor": 0
      },
      "text/plain": [
       "Validating: 0it [00:00, ?it/s]"
      ]
     },
     "metadata": {},
     "output_type": "display_data"
    },
    {
     "name": "stderr",
     "output_type": "stream",
     "text": [
      "Epoch 13, global step 2183: val_f1 was not in top 1\n"
     ]
    },
    {
     "data": {
      "application/vnd.jupyter.widget-view+json": {
       "model_id": "",
       "version_major": 2,
       "version_minor": 0
      },
      "text/plain": [
       "Validating: 0it [00:00, ?it/s]"
      ]
     },
     "metadata": {},
     "output_type": "display_data"
    },
    {
     "name": "stderr",
     "output_type": "stream",
     "text": [
      "Epoch 14, global step 2339: val_f1 reached 0.88446 (best 0.88446), saving model to \"/home/traveller/SWProj/Challenges/AtomicHack/notebooks/checkpoints/unary-0.21a_epoch=14-val_f1=0.8845-val_loss=0.4018.ckpt\" as top 1\n"
     ]
    },
    {
     "data": {
      "application/vnd.jupyter.widget-view+json": {
       "model_id": "",
       "version_major": 2,
       "version_minor": 0
      },
      "text/plain": [
       "Validating: 0it [00:00, ?it/s]"
      ]
     },
     "metadata": {},
     "output_type": "display_data"
    },
    {
     "name": "stderr",
     "output_type": "stream",
     "text": [
      "Epoch 15, global step 2495: val_f1 was not in top 1\n"
     ]
    },
    {
     "data": {
      "application/vnd.jupyter.widget-view+json": {
       "model_id": "",
       "version_major": 2,
       "version_minor": 0
      },
      "text/plain": [
       "Validating: 0it [00:00, ?it/s]"
      ]
     },
     "metadata": {},
     "output_type": "display_data"
    },
    {
     "name": "stderr",
     "output_type": "stream",
     "text": [
      "Epoch 16, global step 2651: val_f1 was not in top 1\n"
     ]
    },
    {
     "data": {
      "application/vnd.jupyter.widget-view+json": {
       "model_id": "",
       "version_major": 2,
       "version_minor": 0
      },
      "text/plain": [
       "Validating: 0it [00:00, ?it/s]"
      ]
     },
     "metadata": {},
     "output_type": "display_data"
    },
    {
     "name": "stderr",
     "output_type": "stream",
     "text": [
      "Epoch 17, global step 2807: val_f1 was not in top 1\n"
     ]
    },
    {
     "data": {
      "application/vnd.jupyter.widget-view+json": {
       "model_id": "",
       "version_major": 2,
       "version_minor": 0
      },
      "text/plain": [
       "Validating: 0it [00:00, ?it/s]"
      ]
     },
     "metadata": {},
     "output_type": "display_data"
    },
    {
     "name": "stderr",
     "output_type": "stream",
     "text": [
      "Epoch 18, global step 2963: val_f1 was not in top 1\n"
     ]
    },
    {
     "data": {
      "application/vnd.jupyter.widget-view+json": {
       "model_id": "",
       "version_major": 2,
       "version_minor": 0
      },
      "text/plain": [
       "Validating: 0it [00:00, ?it/s]"
      ]
     },
     "metadata": {},
     "output_type": "display_data"
    },
    {
     "name": "stderr",
     "output_type": "stream",
     "text": [
      "Epoch 19, global step 3119: val_f1 was not in top 1\n"
     ]
    },
    {
     "data": {
      "application/vnd.jupyter.widget-view+json": {
       "model_id": "",
       "version_major": 2,
       "version_minor": 0
      },
      "text/plain": [
       "Validating: 0it [00:00, ?it/s]"
      ]
     },
     "metadata": {},
     "output_type": "display_data"
    },
    {
     "name": "stderr",
     "output_type": "stream",
     "text": [
      "Epoch 20, global step 3275: val_f1 was not in top 1\n"
     ]
    }
   ],
   "source": [
    "trainer = pl.Trainer(max_epochs=50, callbacks=[early_stopping, checkpoints], logger=tb_logger)\n",
    "trainer.fit(model, dm)"
   ]
  },
  {
   "cell_type": "code",
   "execution_count": 662,
   "id": "940f3b00",
   "metadata": {
    "ExecuteTime": {
     "end_time": "2023-12-17T05:09:36.453305Z",
     "start_time": "2023-12-17T05:09:36.380320Z"
    }
   },
   "outputs": [
    {
     "data": {
      "text/plain": [
       "<All keys matched successfully>"
      ]
     },
     "execution_count": 662,
     "metadata": {},
     "output_type": "execute_result"
    }
   ],
   "source": [
    "model.load_state_dict(torch.load(LOG_DIR.joinpath(\"checkpoints\", \"unary-0.21a_epoch=14-val_f1=0.8845-val_loss=0.4018.ckpt\"))[\"state_dict\"])"
   ]
  },
  {
   "cell_type": "code",
   "execution_count": 663,
   "id": "eb6c4dcd",
   "metadata": {
    "ExecuteTime": {
     "end_time": "2023-12-17T05:09:47.380018Z",
     "start_time": "2023-12-17T05:09:37.337439Z"
    }
   },
   "outputs": [
    {
     "name": "stderr",
     "output_type": "stream",
     "text": [
      "2023-12-17 08:09:37 localhost.localdomain test[18496] WARNING requested 10000 samples from 6495 defects, using the smaller one\n",
      "\n",
      "  0%|          | 0/6495 [00:00<?, ?it/s]\u001b[A\n",
      "  1%|          | 60/6495 [00:00<00:10, 596.12it/s]\u001b[A\n",
      "  2%|▏         | 131/6495 [00:00<00:09, 662.28it/s]\u001b[A\n",
      "  3%|▎         | 201/6495 [00:00<00:09, 676.71it/s]\u001b[A\n",
      "  4%|▍         | 278/6495 [00:00<00:08, 711.27it/s]\u001b[A2023-12-17 08:09:37 localhost.localdomain test[18496] WARNING sample 2023.09.05 83-23-04_1/5_279.frame is outside the frame: (-5:115, 369:489)\n",
      "\n",
      "  5%|▌         | 350/6495 [00:00<00:08, 707.62it/s]\u001b[A\n",
      "  7%|▋         | 424/6495 [00:00<00:08, 716.36it/s]\u001b[A2023-12-17 08:09:38 localhost.localdomain test[18496] WARNING sample 2023.04.11 брак/1_765.frame is outside the frame: (500:620, 493:613)\n",
      "\n",
      "  8%|▊         | 496/6495 [00:00<00:08, 696.71it/s]\u001b[A2023-12-17 08:09:38 localhost.localdomain test[18496] WARNING sample 2023.01.09/T52_dist_1_frame_2.frame is outside the frame: (502:622, 398:518)\n",
      "\n",
      "  9%|▊         | 566/6495 [00:00<00:08, 684.64it/s]\u001b[A2023-12-17 08:09:38 localhost.localdomain test[18496] WARNING sample 2023.06.21 57-23-05_1/5_596.frame is outside the frame: (-9:111, 407:527)\n",
      "\n",
      " 10%|▉         | 635/6495 [00:00<00:08, 652.81it/s]\u001b[A\n",
      " 11%|█         | 701/6495 [00:01<00:08, 653.92it/s]\u001b[A\n",
      " 12%|█▏        | 772/6495 [00:01<00:08, 669.25it/s]\u001b[A\n",
      " 13%|█▎        | 846/6495 [00:01<00:08, 689.55it/s]\u001b[A2023-12-17 08:09:38 localhost.localdomain test[18496] WARNING sample 2023.09.05 78-23-04_1/3_164.frame is outside the frame: (-60:60, 376:496)\n",
      "2023-12-17 08:09:38 localhost.localdomain test[18496] WARNING sample 2023.04.10 брак/2_290.frame is outside the frame: (504:624, 623:743)\n",
      "\n",
      " 14%|█▍        | 916/6495 [00:01<00:08, 673.78it/s]\u001b[A\n",
      " 15%|█▌        | 991/6495 [00:01<00:07, 695.21it/s]\u001b[A2023-12-17 08:09:38 localhost.localdomain test[18496] WARNING sample 2023.09.05 78-23-04_1/1_286.frame is outside the frame: (-28:92, 204:324)\n",
      "\n",
      " 16%|█▋        | 1063/6495 [00:01<00:07, 700.83it/s]\u001b[A2023-12-17 08:09:38 localhost.localdomain test[18496] WARNING sample 2023.10.25/4_861.frame is outside the frame: (-5:115, 357:477)\n",
      "2023-12-17 08:09:39 localhost.localdomain test[18496] WARNING sample 2023.05.30 выступы/3_792.frame is outside the frame: (173:293, 849:969)\n",
      "\n",
      " 17%|█▋        | 1134/6495 [00:01<00:07, 694.80it/s]\u001b[A\n",
      " 19%|█▊        | 1207/6495 [00:01<00:07, 704.32it/s]\u001b[A2023-12-17 08:09:39 localhost.localdomain test[18496] WARNING sample 2023.09.05 83-23-04_1/1_113.frame is outside the frame: (500:620, 251:371)\n",
      "\n",
      " 20%|█▉        | 1278/6495 [00:01<00:07, 697.46it/s]\u001b[A2023-12-17 08:09:39 localhost.localdomain test[18496] WARNING sample 2023.03.17/1_898.frame is outside the frame: (-34:86, 686:806)\n",
      "2023-12-17 08:09:39 localhost.localdomain test[18496] WARNING sample 2023.06.16 08-33-34 53-23-03_1/1_468.frame is outside the frame: (492:612, 749:869)\n",
      "\n",
      " 21%|██        | 1348/6495 [00:01<00:07, 647.39it/s]\u001b[A\n",
      " 22%|██▏       | 1414/6495 [00:02<00:08, 627.02it/s]\u001b[A\n",
      " 23%|██▎       | 1487/6495 [00:02<00:07, 654.22it/s]\u001b[A\n",
      " 24%|██▍       | 1559/6495 [00:02<00:07, 672.03it/s]\u001b[A\n",
      " 25%|██▌       | 1629/6495 [00:02<00:07, 678.41it/s]\u001b[A\n",
      " 26%|██▌       | 1704/6495 [00:02<00:06, 697.52it/s]\u001b[A\n",
      " 27%|██▋       | 1775/6495 [00:02<00:06, 699.36it/s]\u001b[A2023-12-17 08:09:40 localhost.localdomain test[18496] WARNING sample 2023.08.08 71-23-07_1/1_892.frame is outside the frame: (-1:119, 599:719)\n",
      "2023-12-17 08:09:40 localhost.localdomain test[18496] WARNING sample 2023.07.17 60-23-07_1/2_113.frame is outside the frame: (436:556, -51:69)\n",
      "\n",
      " 29%|██▊       | 1858/6495 [00:02<00:06, 735.40it/s]\u001b[A\n",
      " 30%|██▉       | 1932/6495 [00:02<00:06, 725.40it/s]\u001b[A2023-12-17 08:09:40 localhost.localdomain test[18496] WARNING sample 2023.05.30 выступы/3_792.frame is outside the frame: (332:452, 853:973)\n",
      "\n",
      " 31%|███       | 2005/6495 [00:02<00:06, 676.57it/s]\u001b[A\n",
      " 32%|███▏      | 2074/6495 [00:03<00:06, 658.26it/s]\u001b[A2023-12-17 08:09:40 localhost.localdomain test[18496] WARNING sample 2023.04.18/2_105.frame is outside the frame: (-2:118, 236:356)\n",
      "2023-12-17 08:09:40 localhost.localdomain test[18496] WARNING sample 2023.09.05 78-23-04_1/1_333.frame is outside the frame: (19:139, 864:984)\n",
      "\n",
      " 33%|███▎      | 2141/6495 [00:03<00:06, 639.28it/s]\u001b[A\n",
      " 34%|███▍      | 2206/6495 [00:03<00:06, 630.19it/s]\u001b[A2023-12-17 08:09:40 localhost.localdomain test[18496] WARNING sample 2023.07.17 60-23-07_1/4_847.frame is outside the frame: (-3:117, 472:592)\n",
      "\n",
      " 35%|███▍      | 2270/6495 [00:03<00:06, 621.43it/s]\u001b[A\n",
      " 36%|███▌      | 2333/6495 [00:03<00:06, 617.98it/s]\u001b[A\n",
      " 37%|███▋      | 2398/6495 [00:03<00:06, 626.52it/s]\u001b[A2023-12-17 08:09:41 localhost.localdomain test[18496] WARNING sample 2023.07.17 60-23-07_1/2_113.frame is outside the frame: (198:318, -8:112)\n",
      "\n",
      " 38%|███▊      | 2461/6495 [00:03<00:06, 612.48it/s]\u001b[A2023-12-17 08:09:41 localhost.localdomain test[18496] WARNING sample 2023.10.10 804-23-04_1/4_262.frame is outside the frame: (493:613, 536:656)\n",
      "\n",
      " 39%|███▉      | 2525/6495 [00:03<00:06, 619.95it/s]\u001b[A\n",
      " 40%|███▉      | 2588/6495 [00:03<00:06, 605.02it/s]\u001b[A\n",
      " 41%|████      | 2649/6495 [00:03<00:06, 600.85it/s]\u001b[A2023-12-17 08:09:41 localhost.localdomain test[18496] WARNING sample 2023.08.08 71-23-07_1/4_880.frame is outside the frame: (491:611, 507:627)\n",
      "\n",
      " 42%|████▏     | 2713/6495 [00:04<00:06, 610.43it/s]\u001b[A2023-12-17 08:09:41 localhost.localdomain test[18496] WARNING sample 2023.04.18/4_446.frame is outside the frame: (-7:113, 426:546)\n",
      "\n",
      " 43%|████▎     | 2779/6495 [00:04<00:05, 624.77it/s]\u001b[A2023-12-17 08:09:41 localhost.localdomain test[18496] WARNING sample 2023.07.17 60-23-07_1/t27_dist_3_frame_030-test.frame is outside the frame: (486:606, 767:887)\n",
      "2023-12-17 08:09:41 localhost.localdomain test[18496] WARNING sample 2023.09.05 78-23-04_1/3_118.frame is outside the frame: (486:606, 312:432)\n",
      "\n",
      " 44%|████▍     | 2854/6495 [00:04<00:05, 660.94it/s]\u001b[A\n",
      " 45%|████▍     | 2921/6495 [00:04<00:05, 658.35it/s]\u001b[A\n",
      " 46%|████▌     | 2998/6495 [00:04<00:05, 688.47it/s]\u001b[A\n",
      " 47%|████▋     | 3072/6495 [00:04<00:04, 701.58it/s]\u001b[A2023-12-17 08:09:42 localhost.localdomain test[18496] WARNING sample 2023.04.11 брак/3_752.frame is outside the frame: (494:614, 172:292)\n",
      "\n",
      " 48%|████▊     | 3144/6495 [00:04<00:04, 704.61it/s]\u001b[A\n",
      " 50%|████▉     | 3218/6495 [00:04<00:04, 714.90it/s]\u001b[A2023-12-17 08:09:42 localhost.localdomain test[18496] WARNING sample 2023.09.05 83-23-04_1/1_113.frame is outside the frame: (234:354, 869:989)\n",
      "\n",
      " 51%|█████     | 3290/6495 [00:04<00:04, 694.72it/s]\u001b[A2023-12-17 08:09:42 localhost.localdomain test[18496] WARNING sample 2023.05.30 выступы/3_792.frame is outside the frame: (-12:108, 487:607)\n",
      "2023-12-17 08:09:42 localhost.localdomain test[18496] WARNING sample 2023.08.08 71-23-07_1/1_127.frame is outside the frame: (-8:112, 730:850)\n",
      "\n",
      " 52%|█████▏    | 3360/6495 [00:05<00:04, 661.35it/s]\u001b[A\n",
      " 53%|█████▎    | 3427/6495 [00:05<00:04, 642.33it/s]\u001b[A\n",
      " 54%|█████▍    | 3496/6495 [00:05<00:04, 651.94it/s]\u001b[A2023-12-17 08:09:42 localhost.localdomain test[18496] WARNING sample 2023.08.10 74-23-03_1/4_602.frame is outside the frame: (-4:116, 619:739)\n",
      "\n",
      " 55%|█████▍    | 3571/6495 [00:05<00:04, 678.00it/s]\u001b[A2023-12-17 08:09:42 localhost.localdomain test[18496] WARNING sample 2023.10.10 804-23-04_1/5_828.frame is outside the frame: (494:614, 234:354)\n",
      "\n",
      " 56%|█████▌    | 3640/6495 [00:05<00:04, 675.94it/s]\u001b[A\n",
      " 57%|█████▋    | 3710/6495 [00:05<00:04, 681.51it/s]\u001b[A\n",
      " 58%|█████▊    | 3782/6495 [00:05<00:03, 691.92it/s]\u001b[A\n",
      " 59%|█████▉    | 3857/6495 [00:05<00:03, 707.23it/s]\u001b[A2023-12-17 08:09:43 localhost.localdomain test[18496] WARNING sample 2023.09.05 78-23-04_1/1_333.frame is outside the frame: (450:570, 878:998)\n",
      "\n",
      " 61%|██████    | 3930/6495 [00:05<00:03, 711.71it/s]\u001b[A\n",
      " 62%|██████▏   | 4004/6495 [00:05<00:03, 716.42it/s]\u001b[A\n",
      " 63%|██████▎   | 4079/6495 [00:06<00:03, 725.15it/s]\u001b[A\n",
      " 64%|██████▍   | 4156/6495 [00:06<00:03, 736.85it/s]\u001b[A2023-12-17 08:09:43 localhost.localdomain test[18496] WARNING sample 2023.04.18/2_211.frame is outside the frame: (497:617, 140:260)\n",
      "\n",
      " 65%|██████▌   | 4230/6495 [00:06<00:03, 729.88it/s]\u001b[A\n",
      " 66%|██████▋   | 4304/6495 [00:06<00:03, 718.89it/s]\u001b[A\n",
      " 67%|██████▋   | 4376/6495 [00:06<00:03, 662.07it/s]\u001b[A2023-12-17 08:09:43 localhost.localdomain test[18496] WARNING sample 2023.06.16 08-33-34 53-23-03_1/1_468.frame is outside the frame: (-7:113, 582:702)\n"
     ]
    },
    {
     "name": "stderr",
     "output_type": "stream",
     "text": [
      "\n",
      " 69%|██████▊   | 4452/6495 [00:06<00:02, 684.52it/s]\u001b[A2023-12-17 08:09:44 localhost.localdomain test[18496] WARNING sample 2023.06.15/4_426.frame is outside the frame: (-17:103, 685:805)\n",
      "\n",
      " 70%|██████▉   | 4522/6495 [00:06<00:02, 684.83it/s]\u001b[A2023-12-17 08:09:44 localhost.localdomain test[18496] WARNING sample 2023.05.16/4_633.frame is outside the frame: (-11:109, 729:849)\n",
      "\n",
      " 71%|███████   | 4591/6495 [00:06<00:02, 683.61it/s]\u001b[A\n",
      " 72%|███████▏  | 4663/6495 [00:06<00:02, 693.27it/s]\u001b[A\n",
      " 73%|███████▎  | 4747/6495 [00:07<00:02, 734.91it/s]\u001b[A\n",
      " 74%|███████▍  | 4821/6495 [00:07<00:02, 707.57it/s]\u001b[A\n",
      " 75%|███████▌  | 4893/6495 [00:07<00:02, 655.63it/s]\u001b[A2023-12-17 08:09:44 localhost.localdomain test[18496] WARNING sample 2023.04.18/2_527.frame is outside the frame: (166:286, 846:966)\n",
      "\n",
      " 76%|███████▋  | 4960/6495 [00:07<00:02, 589.04it/s]\u001b[A2023-12-17 08:09:44 localhost.localdomain test[18496] WARNING sample 2023.09.07 13-09-28 78-23-04_1/0/5_335.frame is outside the frame: (-11:109, 525:645)\n",
      "\n",
      " 77%|███████▋  | 5021/6495 [00:07<00:02, 555.67it/s]\u001b[A2023-12-17 08:09:45 localhost.localdomain test[18496] WARNING sample 2023.04.11 брак/1_765.frame is outside the frame: (494:614, 278:398)\n",
      "\n",
      " 78%|███████▊  | 5081/6495 [00:07<00:02, 566.38it/s]\u001b[A2023-12-17 08:09:45 localhost.localdomain test[18496] WARNING sample 2023.10.25/3_422.frame is outside the frame: (392:512, 841:961)\n",
      "\n",
      " 79%|███████▉  | 5156/6495 [00:07<00:02, 613.53it/s]\u001b[A\n",
      " 80%|████████  | 5227/6495 [00:07<00:01, 638.63it/s]\u001b[A\n",
      " 82%|████████▏ | 5305/6495 [00:07<00:01, 677.51it/s]\u001b[A\n",
      " 83%|████████▎ | 5376/6495 [00:08<00:01, 686.05it/s]\u001b[A\n",
      " 84%|████████▍ | 5446/6495 [00:08<00:01, 626.83it/s]\u001b[A\n",
      " 85%|████████▍ | 5511/6495 [00:08<00:01, 559.57it/s]\u001b[A\n",
      " 86%|████████▌ | 5570/6495 [00:08<00:01, 557.64it/s]\u001b[A\n",
      " 87%|████████▋ | 5628/6495 [00:08<00:01, 560.85it/s]\u001b[A\n",
      " 88%|████████▊ | 5691/6495 [00:08<00:01, 576.69it/s]\u001b[A\n",
      " 89%|████████▊ | 5750/6495 [00:08<00:01, 562.30it/s]\u001b[A\n",
      " 89%|████████▉ | 5812/6495 [00:08<00:01, 578.40it/s]\u001b[A2023-12-17 08:09:46 localhost.localdomain test[18496] WARNING sample 2023.10.10 804-23-04_1/3_162.frame is outside the frame: (-1:119, 337:457)\n",
      "\n",
      " 91%|█████████ | 5883/6495 [00:08<00:00, 614.81it/s]\u001b[A2023-12-17 08:09:46 localhost.localdomain test[18496] WARNING sample 2023.10.25/0/4_737.frame is outside the frame: (-5:115, 111:231)\n",
      "\n",
      " 92%|█████████▏| 5946/6495 [00:09<00:00, 559.41it/s]\u001b[A\n",
      " 93%|█████████▎| 6008/6495 [00:09<00:00, 570.83it/s]\u001b[A\n",
      " 93%|█████████▎| 6067/6495 [00:09<00:00, 574.31it/s]\u001b[A2023-12-17 08:09:46 localhost.localdomain test[18496] WARNING sample 2023.09.05 78-23-04_1/1_333.frame is outside the frame: (223:343, 871:991)\n",
      "\n",
      " 94%|█████████▍| 6133/6495 [00:09<00:00, 597.02it/s]\u001b[A2023-12-17 08:09:46 localhost.localdomain test[18496] WARNING sample 2022.11.25/0_328.frame is outside the frame: (497:617, 738:858)\n",
      "2023-12-17 08:09:46 localhost.localdomain test[18496] WARNING sample 2023.04.18/2_527.frame is outside the frame: (-46:74, 210:330)\n",
      "\n",
      " 95%|█████████▌| 6194/6495 [00:09<00:00, 589.49it/s]\u001b[A2023-12-17 08:09:46 localhost.localdomain test[18496] WARNING sample 2023.09.05 83-23-04_1/5_279.frame is outside the frame: (-8:112, 572:692)\n",
      "\n",
      " 96%|█████████▋| 6255/6495 [00:09<00:00, 593.97it/s]\u001b[A2023-12-17 08:09:47 localhost.localdomain test[18496] WARNING sample 2023.08.08 71-23-07_1/t17_dist_1_frame_270-test.frame is outside the frame: (101:221, 869:989)\n",
      "\n",
      " 97%|█████████▋| 6321/6495 [00:09<00:00, 612.90it/s]\u001b[A\n",
      " 98%|█████████▊| 6396/6495 [00:09<00:00, 653.07it/s]\u001b[A\n",
      "100%|██████████| 6495/6495 [00:09<00:00, 653.66it/s]\u001b[A\n"
     ]
    }
   ],
   "source": [
    "dm.setup(stage=\"test\")"
   ]
  },
  {
   "cell_type": "code",
   "execution_count": 664,
   "id": "568e0eea",
   "metadata": {
    "ExecuteTime": {
     "end_time": "2023-12-17T05:09:59.884281Z",
     "start_time": "2023-12-17T05:09:47.382475Z"
    }
   },
   "outputs": [
    {
     "data": {
      "application/vnd.jupyter.widget-view+json": {
       "model_id": "c662e175cd3146619cfee1317fcaf292",
       "version_major": 2,
       "version_minor": 0
      },
      "text/plain": [
       "Testing: 0it [00:00, ?it/s]"
      ]
     },
     "metadata": {},
     "output_type": "display_data"
    },
    {
     "name": "stdout",
     "output_type": "stream",
     "text": [
      "--------------------------------------------------------------------------------\n",
      "DATALOADER:0 TEST RESULTS\n",
      "{'test_acc': 0.8781206607818604,\n",
      " 'test_f1': 0.885076642036438,\n",
      " 'test_loss': 0.40989232063293457}\n",
      "--------------------------------------------------------------------------------\n"
     ]
    },
    {
     "data": {
      "text/plain": [
       "[{'test_f1': 0.885076642036438,\n",
       "  'test_acc': 0.8781206607818604,\n",
       "  'test_loss': 0.40989232063293457}]"
      ]
     },
     "execution_count": 664,
     "metadata": {},
     "output_type": "execute_result"
    }
   ],
   "source": [
    "trainer.test()"
   ]
  },
  {
   "cell_type": "markdown",
   "id": "b6fbe3c1",
   "metadata": {},
   "source": [
    "# Примеры распознавания"
   ]
  },
  {
   "cell_type": "code",
   "execution_count": 645,
   "id": "ccc84149",
   "metadata": {
    "ExecuteTime": {
     "end_time": "2023-12-17T04:44:27.985434Z",
     "start_time": "2023-12-17T04:44:27.931063Z"
    }
   },
   "outputs": [],
   "source": [
    "test_samples = dm.test_ds.samples[dm.test_ds.samples.valid]"
   ]
  },
  {
   "cell_type": "markdown",
   "id": "0e92c3c3",
   "metadata": {},
   "source": [
    "Для референса: случайный классификатор."
   ]
  },
  {
   "cell_type": "code",
   "execution_count": 646,
   "id": "8a6f7db5",
   "metadata": {
    "ExecuteTime": {
     "end_time": "2023-12-17T04:44:29.721924Z",
     "start_time": "2023-12-17T04:44:29.670843Z"
    }
   },
   "outputs": [
    {
     "data": {
      "text/plain": [
       "18393    0\n",
       "20858    1\n",
       "16716    0\n",
       "17802    1\n",
       "33458    9\n",
       "        ..\n",
       "16223    1\n",
       "4672     0\n",
       "2735     0\n",
       "8676     1\n",
       "5972     0\n",
       "Name: label, Length: 6449, dtype: int64"
      ]
     },
     "execution_count": 646,
     "metadata": {},
     "output_type": "execute_result"
    }
   ],
   "source": [
    "random_labels = test_samples.label.sample(len(test_samples), replace=True)\n",
    "random_labels"
   ]
  },
  {
   "cell_type": "code",
   "execution_count": 647,
   "id": "f8d30f42",
   "metadata": {
    "ExecuteTime": {
     "end_time": "2023-12-17T04:44:30.017887Z",
     "start_time": "2023-12-17T04:44:29.966287Z"
    }
   },
   "outputs": [
    {
     "data": {
      "text/plain": [
       "0.5394579001307219"
      ]
     },
     "execution_count": 647,
     "metadata": {},
     "output_type": "execute_result"
    }
   ],
   "source": [
    "f1_score(test_samples.label.values, random_labels.values, average=\"weighted\")"
   ]
  },
  {
   "cell_type": "code",
   "execution_count": 648,
   "id": "bfcbaf3a",
   "metadata": {
    "ExecuteTime": {
     "end_time": "2023-12-17T04:44:30.835103Z",
     "start_time": "2023-12-17T04:44:30.783025Z"
    }
   },
   "outputs": [
    {
     "data": {
      "text/plain": [
       "0.5393084199100636"
      ]
     },
     "execution_count": 648,
     "metadata": {},
     "output_type": "execute_result"
    }
   ],
   "source": [
    "accuracy_score(test_samples.label.values, random_labels.values)"
   ]
  },
  {
   "cell_type": "markdown",
   "id": "128e1f9b",
   "metadata": {},
   "source": [
    "Для референса: всегда прогнозируем `нет дефекта`."
   ]
  },
  {
   "cell_type": "code",
   "execution_count": 649,
   "id": "286701c8",
   "metadata": {
    "ExecuteTime": {
     "end_time": "2023-12-17T04:44:36.309992Z",
     "start_time": "2023-12-17T04:44:36.257448Z"
    }
   },
   "outputs": [
    {
     "data": {
      "text/plain": [
       "0.6054035999843331"
      ]
     },
     "execution_count": 649,
     "metadata": {},
     "output_type": "execute_result"
    }
   ],
   "source": [
    "f1_score(test_samples.label.values, np.zeros(len(test_samples)), average=\"weighted\")"
   ]
  },
  {
   "cell_type": "code",
   "execution_count": 650,
   "id": "c389ef5a",
   "metadata": {
    "ExecuteTime": {
     "end_time": "2023-12-17T04:44:36.942690Z",
     "start_time": "2023-12-17T04:44:36.887724Z"
    }
   },
   "outputs": [
    {
     "data": {
      "text/plain": [
       "0.7219723988215228"
      ]
     },
     "execution_count": 650,
     "metadata": {},
     "output_type": "execute_result"
    }
   ],
   "source": [
    "accuracy_score(test_samples.label.values, np.zeros(len(test_samples)))"
   ]
  },
  {
   "cell_type": "code",
   "execution_count": 665,
   "id": "28f03152",
   "metadata": {
    "ExecuteTime": {
     "end_time": "2023-12-17T05:11:05.526004Z",
     "start_time": "2023-12-17T05:10:16.627711Z"
    }
   },
   "outputs": [],
   "source": [
    "test_labels = []\n",
    "\n",
    "for idx in range(len(dm.test_ds)):\n",
    "    sample, label = dm.test_ds[idx]\n",
    "    pred = model(sample).argmax(axis=1).item()\n",
    "    actual = label.argmax().item()\n",
    "    test_labels.append([actual, pred])\n",
    "\n",
    "test_labels = pd.DataFrame(test_labels, columns=[\"actual\", \"predicted\"])"
   ]
  },
  {
   "cell_type": "code",
   "execution_count": 697,
   "id": "503546c1",
   "metadata": {
    "ExecuteTime": {
     "end_time": "2023-12-17T05:31:52.321898Z",
     "start_time": "2023-12-17T05:31:52.271833Z"
    }
   },
   "outputs": [],
   "source": [
    "classes.replace({\"плена\": \"пленка\"}, inplace=True)"
   ]
  },
  {
   "cell_type": "code",
   "execution_count": 705,
   "id": "df901a5e",
   "metadata": {
    "ExecuteTime": {
     "end_time": "2023-12-17T05:34:25.420037Z",
     "start_time": "2023-12-17T05:34:25.359907Z"
    }
   },
   "outputs": [],
   "source": [
    "test_labels = (test_labels\n",
    "               .merge(classes[[\"class\", \"classname\"]], how=\"left\", left_on=\"actual\", right_on=\"class\", suffixes=[\"\", \"_actual\"])\n",
    "               .merge(classes[[\"class\", \"classname\"]], how=\"left\", left_on=\"predicted\", right_on=\"class\", suffixes=[\"\", \"_predicted\"]))"
   ]
  },
  {
   "cell_type": "code",
   "execution_count": 707,
   "id": "26ad48a2",
   "metadata": {
    "ExecuteTime": {
     "end_time": "2023-12-17T05:34:52.249719Z",
     "start_time": "2023-12-17T05:34:52.198632Z"
    }
   },
   "outputs": [],
   "source": [
    "classification_report?"
   ]
  },
  {
   "cell_type": "code",
   "execution_count": 708,
   "id": "3650678b",
   "metadata": {
    "ExecuteTime": {
     "end_time": "2023-12-17T05:35:29.114982Z",
     "start_time": "2023-12-17T05:35:29.053322Z"
    }
   },
   "outputs": [
    {
     "name": "stdout",
     "output_type": "stream",
     "text": [
      "                    precision    recall  f1-score   support\n",
      "\n",
      "         не дефект       0.98      0.95      0.96      4656\n",
      "        потертость       0.85      0.75      0.79       783\n",
      "      черная точка       0.67      0.60      0.63        47\n",
      "            пленка       0.26      0.50      0.34        36\n",
      "            маркер       0.77      0.77      0.77       175\n",
      "             грязь       0.52      0.69      0.60       250\n",
      "             накол       0.50      0.95      0.66        44\n",
      "        н.д. накол       0.30      0.19      0.24        31\n",
      "       микровыступ       0.46      0.44      0.45       104\n",
      "  н.д. микровыступ       0.55      0.81      0.65       190\n",
      "           вмятина       0.75      0.38      0.50         8\n",
      "   мех.повреждение       0.45      0.26      0.33        78\n",
      "             риска       0.86      0.32      0.46        19\n",
      "царапина с волчком       0.30      0.75      0.43        28\n",
      "\n",
      "          accuracy                           0.88      6449\n",
      "         macro avg       0.59      0.60      0.56      6449\n",
      "      weighted avg       0.89      0.88      0.88      6449\n",
      "\n"
     ]
    }
   ],
   "source": [
    "print(classification_report(test_labels.actual, test_labels.predicted, target_names=classes.classname))"
   ]
  },
  {
   "cell_type": "code",
   "execution_count": 709,
   "id": "cb20772d",
   "metadata": {
    "ExecuteTime": {
     "end_time": "2023-12-17T05:35:44.589007Z",
     "start_time": "2023-12-17T05:35:44.538274Z"
    }
   },
   "outputs": [
    {
     "data": {
      "text/plain": [
       "classname\n",
       "не дефект             4656\n",
       "потертость             783\n",
       "грязь                  250\n",
       "н.д. микровыступ       190\n",
       "маркер                 175\n",
       "микровыступ            104\n",
       "мех.повреждение         78\n",
       "черная точка            47\n",
       "накол                   44\n",
       "пленка                  36\n",
       "н.д. накол              31\n",
       "царапина с волчком      28\n",
       "риска                   19\n",
       "вмятина                  8\n",
       "Name: count, dtype: int64"
      ]
     },
     "execution_count": 709,
     "metadata": {},
     "output_type": "execute_result"
    }
   ],
   "source": [
    "test_labels.classname.value_counts()"
   ]
  },
  {
   "cell_type": "code",
   "execution_count": 710,
   "id": "b20e0323",
   "metadata": {
    "ExecuteTime": {
     "end_time": "2023-12-17T05:36:06.368904Z",
     "start_time": "2023-12-17T05:36:06.309903Z"
    }
   },
   "outputs": [],
   "source": [
    "cm = pd.DataFrame(confusion_matrix(test_labels.actual, test_labels.predicted, normalize=\"true\"),\n",
    "                  columns=classes.classname,\n",
    "                  index=classes.classname)"
   ]
  },
  {
   "cell_type": "code",
   "execution_count": 711,
   "id": "459e027e",
   "metadata": {
    "ExecuteTime": {
     "end_time": "2023-12-17T05:36:06.522456Z",
     "start_time": "2023-12-17T05:36:06.472005Z"
    }
   },
   "outputs": [],
   "source": [
    "order = np.argsort(np.diag(cm.values))[::-1]"
   ]
  },
  {
   "cell_type": "code",
   "execution_count": 717,
   "id": "6ea08dfe",
   "metadata": {
    "ExecuteTime": {
     "end_time": "2023-12-17T06:16:20.220852Z",
     "start_time": "2023-12-17T06:16:19.397508Z"
    }
   },
   "outputs": [
    {
     "data": {
      "text/plain": [
       "(array([ 0.5,  1.5,  2.5,  3.5,  4.5,  5.5,  6.5,  7.5,  8.5,  9.5, 10.5,\n",
       "        11.5, 12.5, 13.5]),\n",
       " [Text(0, 0.5, 'накол'),\n",
       "  Text(0, 1.5, 'не дефект'),\n",
       "  Text(0, 2.5, 'н.д. микровыступ'),\n",
       "  Text(0, 3.5, 'маркер'),\n",
       "  Text(0, 4.5, 'царапина с волчком'),\n",
       "  Text(0, 5.5, 'потертость'),\n",
       "  Text(0, 6.5, 'грязь'),\n",
       "  Text(0, 7.5, 'черная точка'),\n",
       "  Text(0, 8.5, 'пленка'),\n",
       "  Text(0, 9.5, 'микровыступ'),\n",
       "  Text(0, 10.5, 'вмятина'),\n",
       "  Text(0, 11.5, 'риска'),\n",
       "  Text(0, 12.5, 'мех.повреждение'),\n",
       "  Text(0, 13.5, 'н.д. накол')])"
      ]
     },
     "execution_count": 717,
     "metadata": {},
     "output_type": "execute_result"
    },
    {
     "data": {
      "image/png": "[encoded data removed]",
      "text/plain": [
       "<Figure size 900x900 with 2 Axes>"
      ]
     },
     "metadata": {
      "needs_background": "light"
     },
     "output_type": "display_data"
    }
   ],
   "source": [
    "sns.heatmap(cm.iloc[order, order], annot=True, fmt=\".1%\", linewidths=.25, square=True, annot_kws={\"fontsize\": 5}, cmap=plt.cm.RdYlGn)\n",
    "plt.xlabel(\"прогноз\", fontsize=10)\n",
    "plt.ylabel(\"факт\", fontsize=10)\n",
    "plt.xticks(fontsize=6)\n",
    "plt.yticks(fontsize=6)"
   ]
  },
  {
   "cell_type": "code",
   "execution_count": 713,
   "id": "8ed4a8fc",
   "metadata": {
    "ExecuteTime": {
     "end_time": "2023-12-17T05:37:05.124492Z",
     "start_time": "2023-12-17T05:37:05.057012Z"
    }
   },
   "outputs": [
    {
     "name": "stdout",
     "output_type": "stream",
     "text": [
      "              precision    recall  f1-score   support\n",
      "\n",
      "   не дефект       0.98      0.95      0.96      4656\n",
      "      дефект       0.88      0.94      0.91      1793\n",
      "\n",
      "    accuracy                           0.95      6449\n",
      "   macro avg       0.93      0.95      0.94      6449\n",
      "weighted avg       0.95      0.95      0.95      6449\n",
      "\n"
     ]
    }
   ],
   "source": [
    "print(classification_report(test_labels.actual!=0, test_labels.predicted!=0, target_names=[\"не дефект\", \"дефект\"]))"
   ]
  },
  {
   "cell_type": "code",
   "execution_count": 719,
   "id": "05ba59d9",
   "metadata": {
    "ExecuteTime": {
     "end_time": "2023-12-17T07:28:23.828050Z",
     "start_time": "2023-12-17T07:28:23.779613Z"
    }
   },
   "outputs": [
    {
     "name": "stdout",
     "output_type": "stream",
     "text": [
      "UnaryDefectsModel(\n",
      "  (pool): MaxPool2d(kernel_size=2, stride=2, padding=0, dilation=1, ceil_mode=False)\n",
      "  (conv_act): ReLU()\n",
      "  (dropout): Dropout2d(p=0.5, inplace=False)\n",
      "  (conv_11): Conv2d(1, 16, kernel_size=(3, 3), stride=(1, 1), padding=(4, 4), padding_mode=replicate)\n",
      "  (bn_11): BatchNorm2d(16, eps=1e-05, momentum=0.1, affine=True, track_running_stats=True)\n",
      "  (conv_12): Conv2d(16, 16, kernel_size=(3, 3), stride=(1, 1), padding=(4, 4), padding_mode=replicate)\n",
      "  (bn_12): BatchNorm2d(16, eps=1e-05, momentum=0.1, affine=True, track_running_stats=True)\n",
      "  (conv_21): Conv2d(16, 32, kernel_size=(3, 3), stride=(1, 1), padding=(4, 4), padding_mode=replicate)\n",
      "  (bn_21): BatchNorm2d(32, eps=1e-05, momentum=0.1, affine=True, track_running_stats=True)\n",
      "  (conv_22): Conv2d(32, 32, kernel_size=(3, 3), stride=(1, 1), padding=(4, 4), padding_mode=replicate)\n",
      "  (bn_22): BatchNorm2d(32, eps=1e-05, momentum=0.1, affine=True, track_running_stats=True)\n",
      "  (conv_3): Conv2d(32, 64, kernel_size=(3, 3), stride=(1, 1), padding=(2, 2), padding_mode=replicate)\n",
      "  (bn_3): BatchNorm2d(64, eps=1e-05, momentum=0.1, affine=True, track_running_stats=True)\n",
      "  (conv_4): Conv2d(64, 64, kernel_size=(3, 3), stride=(1, 1), padding=(2, 2), padding_mode=replicate)\n",
      "  (conv_5): Conv2d(64, 128, kernel_size=(3, 3), stride=(1, 1), padding=(2, 2), padding_mode=replicate)\n",
      "  (conv_6): Conv2d(128, 256, kernel_size=(3, 3), stride=(1, 1), padding=(2, 2), padding_mode=replicate)\n",
      "  (fc_1): Linear(in_features=256, out_features=128, bias=True)\n",
      "  (act_1): ReLU()\n",
      "  (fc_2): Linear(in_features=128, out_features=32, bias=True)\n",
      "  (act_2): ReLU()\n",
      "  (fc_3): Linear(in_features=32, out_features=14, bias=True)\n",
      "  (loss): CrossEntropyLoss()\n",
      ")\n"
     ]
    }
   ],
   "source": [
    "print(model)"
   ]
  }
 ],
 "metadata": {
  "kernelspec": {
   "display_name": "Python 3",
   "language": "python",
   "name": "python3"
  },
  "language_info": {
   "codemirror_mode": {
    "name": "ipython",
    "version": 3
   },
   "file_extension": ".py",
   "mimetype": "text/x-python",
   "name": "python",
   "nbconvert_exporter": "python",
   "pygments_lexer": "ipython3",
   "version": "3.8.12"
  }
 },
 "nbformat": 4,
 "nbformat_minor": 5
}
